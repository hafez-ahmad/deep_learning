{
  "nbformat": 4,
  "nbformat_minor": 0,
  "metadata": {
    "colab": {
      "name": "deep_learning_course_with_keras.ipynb",
      "version": "0.3.2",
      "provenance": []
    },
    "kernelspec": {
      "display_name": "Python [conda env:anaconda3]",
      "language": "python",
      "name": "conda-env-anaconda3-py"
    }
  },
  "cells": [
    {
      "metadata": {
        "id": "Npl_Bw2wX_yV",
        "colab_type": "code",
        "colab": {}
      },
      "cell_type": "code",
      "source": [
        "import numpy as np\n",
        "%matplotlib inline\n",
        "import matplotlib.pyplot as plt"
      ],
      "execution_count": 0,
      "outputs": []
    },
    {
      "metadata": {
        "id": "cdn-y6vIX_yp",
        "colab_type": "code",
        "colab": {}
      },
      "cell_type": "code",
      "source": [
        "from sklearn.datasets.samples_generator import make_circles"
      ],
      "execution_count": 0,
      "outputs": []
    },
    {
      "metadata": {
        "id": "EhLKuy16X_y2",
        "colab_type": "code",
        "colab": {}
      },
      "cell_type": "code",
      "source": [
        "x,y=make_circles(n_samples=1000,\n",
        "                noise=0.1,\n",
        "                factor=0.2,\n",
        "                random_state=0)"
      ],
      "execution_count": 0,
      "outputs": []
    },
    {
      "metadata": {
        "id": "ny2Df3u1X_zC",
        "colab_type": "code",
        "colab": {},
        "outputId": "daa9943f-c66d-4d84-da31-4fcac9a892ed"
      },
      "cell_type": "code",
      "source": [
        "x"
      ],
      "execution_count": 0,
      "outputs": [
        {
          "output_type": "execute_result",
          "data": {
            "text/plain": [
              "array([[ 0.24265541,  0.0383196 ],\n",
              "       [ 0.04433036, -0.05667334],\n",
              "       [-0.78677748, -0.75718576],\n",
              "       ..., \n",
              "       [ 0.0161236 , -0.00548034],\n",
              "       [ 0.20624715,  0.09769677],\n",
              "       [-0.19186631,  0.08916672]])"
            ]
          },
          "metadata": {
            "tags": []
          },
          "execution_count": 4
        }
      ]
    },
    {
      "metadata": {
        "id": "hFizs2rhX_zX",
        "colab_type": "code",
        "colab": {},
        "outputId": "fd91ec6f-f04b-4350-f4de-6aa39ac7c67a"
      },
      "cell_type": "code",
      "source": [
        "# row and column \n",
        "x.shape"
      ],
      "execution_count": 0,
      "outputs": [
        {
          "output_type": "execute_result",
          "data": {
            "text/plain": [
              "(1000, 2)"
            ]
          },
          "metadata": {
            "tags": []
          },
          "execution_count": 5
        }
      ]
    },
    {
      "metadata": {
        "id": "urNcNYO9X_zn",
        "colab_type": "code",
        "colab": {},
        "outputId": "397dc534-c850-4fb6-c80a-be0462c38a5f"
      },
      "cell_type": "code",
      "source": [
        "y.shape"
      ],
      "execution_count": 0,
      "outputs": [
        {
          "output_type": "execute_result",
          "data": {
            "text/plain": [
              "(1000,)"
            ]
          },
          "metadata": {
            "tags": []
          },
          "execution_count": 6
        }
      ]
    },
    {
      "metadata": {
        "id": "xP2ktiovX_z1",
        "colab_type": "code",
        "colab": {},
        "outputId": "40d94f29-4bde-4b7c-c9f9-1865cce4eed4"
      },
      "cell_type": "code",
      "source": [
        "x[y==0,0].shape"
      ],
      "execution_count": 0,
      "outputs": [
        {
          "output_type": "execute_result",
          "data": {
            "text/plain": [
              "(500,)"
            ]
          },
          "metadata": {
            "tags": []
          },
          "execution_count": 8
        }
      ]
    },
    {
      "metadata": {
        "id": "eSYgqQxUX_0D",
        "colab_type": "code",
        "colab": {},
        "outputId": "36a0511a-1feb-4fc8-a1f3-c8f8f71b03b6"
      },
      "cell_type": "code",
      "source": [
        "x[y==0, 1].shape"
      ],
      "execution_count": 0,
      "outputs": [
        {
          "output_type": "execute_result",
          "data": {
            "text/plain": [
              "(500,)"
            ]
          },
          "metadata": {
            "tags": []
          },
          "execution_count": 11
        }
      ]
    },
    {
      "metadata": {
        "id": "Q3BeyIXNX_0V",
        "colab_type": "code",
        "colab": {},
        "outputId": "b4e174f5-7e6a-4907-c9f3-9126974269ff"
      },
      "cell_type": "code",
      "source": [
        "plt.figure(figsize=(5,5))\n",
        "plt.plot(x[y==0,0],x[y==0,1],'ob', alpha=0.5)\n",
        "plt.plot(x[y==1,0],x[y==1,1],'xr', alpha=0.5)\n",
        "plt.xlim(-1.5,1.5)\n",
        "plt.ylim(-1.5,1.5)\n",
        "plt.legend(['0','1'])"
      ],
      "execution_count": 0,
      "outputs": [
        {
          "output_type": "execute_result",
          "data": {
            "text/plain": [
              "<matplotlib.legend.Legend at 0x7e854b0>"
            ]
          },
          "metadata": {
            "tags": []
          },
          "execution_count": 15
        },
        {
          "output_type": "display_data",
          "data": {
            "image/png": "[encoded data removed]",
            "text/plain": [
              "<Figure size 360x360 with 1 Axes>"
            ]
          },
          "metadata": {
            "tags": []
          }
        }
      ]
    },
    {
      "metadata": {
        "id": "f6bIQJ8UX_0k",
        "colab_type": "code",
        "colab": {}
      },
      "cell_type": "code",
      "source": [
        "from keras.models import Sequential\n",
        "from keras.layers import Dense\n",
        "from keras.optimizers import SGD"
      ],
      "execution_count": 0,
      "outputs": []
    },
    {
      "metadata": {
        "id": "-afrdgPhX_0u",
        "colab_type": "code",
        "colab": {}
      },
      "cell_type": "code",
      "source": [
        "model=Sequential()"
      ],
      "execution_count": 0,
      "outputs": []
    },
    {
      "metadata": {
        "id": "FCJDBNUbX_0-",
        "colab_type": "code",
        "colab": {}
      },
      "cell_type": "code",
      "source": [
        "model.add(Dense(4,input_shape=(2,),activation='tanh'))"
      ],
      "execution_count": 0,
      "outputs": []
    },
    {
      "metadata": {
        "id": "vksnXuMmX_1Q",
        "colab_type": "code",
        "colab": {}
      },
      "cell_type": "code",
      "source": [
        "model.add(Dense(1, activation='sigmoid'))"
      ],
      "execution_count": 0,
      "outputs": []
    },
    {
      "metadata": {
        "id": "hZR8puUQX_1c",
        "colab_type": "code",
        "colab": {}
      },
      "cell_type": "code",
      "source": [
        "model.compile(SGD(lr=0.5), 'binary_crossentropy', metrics=['accuracy'])"
      ],
      "execution_count": 0,
      "outputs": []
    },
    {
      "metadata": {
        "id": "O5vRfpMwX_1o",
        "colab_type": "code",
        "colab": {},
        "outputId": "0b82c86e-737c-4441-9f29-3d24c4c2575b"
      },
      "cell_type": "code",
      "source": [
        "model.fit(x, y, epochs=20)"
      ],
      "execution_count": 0,
      "outputs": [
        {
          "output_type": "stream",
          "text": [
            "Epoch 1/20\n",
            "1000/1000 [==============================] - 3s 3ms/step - loss: 0.6909 - acc: 0.6780\n",
            "Epoch 2/20\n",
            "1000/1000 [==============================] - 3s 3ms/step - loss: 0.6187 - acc: 0.8000\n",
            "Epoch 3/20\n",
            "1000/1000 [==============================] - 3s 3ms/step - loss: 0.5065 - acc: 0.8570\n",
            "Epoch 4/20\n",
            "1000/1000 [==============================] - 3s 3ms/step - loss: 0.3727 - acc: 0.9580\n",
            "Epoch 5/20\n",
            "1000/1000 [==============================] - 2s 2ms/step - loss: 0.2706 - acc: 0.9950A: 0s - loss: 0.2731 - acc: 0.9\n",
            "Epoch 6/20\n",
            "1000/1000 [==============================] - 2s 2ms/step - loss: 0.2000 - acc: 1.0000\n",
            "Epoch 7/20\n",
            "1000/1000 [==============================] - 3s 3ms/step - loss: 0.1563 - acc: 1.0000\n",
            "Epoch 8/20\n",
            "1000/1000 [==============================] - 3s 3ms/step - loss: 0.1259 - acc: 1.0000\n",
            "Epoch 9/20\n",
            "1000/1000 [==============================] - 3s 3ms/step - loss: 0.1053 - acc: 1.0000\n",
            "Epoch 10/20\n",
            "1000/1000 [==============================] - 3s 3ms/step - loss: 0.0901 - acc: 1.0000A: 0s - loss: 0.0903 - \n",
            "Epoch 11/20\n",
            "1000/1000 [==============================] - 2s 2ms/step - loss: 0.0786 - acc: 1.0000A: 0s - loss: 0.0788 - acc: 1\n",
            "Epoch 12/20\n",
            "1000/1000 [==============================] - 3s 3ms/step - loss: 0.0695 - acc: 0.9990\n",
            "Epoch 13/20\n",
            "1000/1000 [==============================] - 3s 3ms/step - loss: 0.0626 - acc: 1.0000\n",
            "Epoch 14/20\n",
            "1000/1000 [==============================] - 3s 3ms/step - loss: 0.0566 - acc: 0.9990\n",
            "Epoch 15/20\n",
            "1000/1000 [==============================] - 3s 3ms/step - loss: 0.0517 - acc: 1.0000\n",
            "Epoch 16/20\n",
            "1000/1000 [==============================] - 2s 2ms/step - loss: 0.0475 - acc: 1.0000\n",
            "Epoch 17/20\n",
            "1000/1000 [==============================] - 2s 2ms/step - loss: 0.0440 - acc: 0.9990\n",
            "Epoch 18/20\n",
            "1000/1000 [==============================] - 2s 2ms/step - loss: 0.0411 - acc: 1.0000\n",
            "Epoch 19/20\n",
            "1000/1000 [==============================] - 3s 3ms/step - loss: 0.0383 - acc: 0.9990A: 0s - loss: 0.0400 -\n",
            "Epoch 20/20\n",
            "1000/1000 [==============================] - 4s 4ms/step - loss: 0.0362 - acc: 1.0000\n"
          ],
          "name": "stdout"
        },
        {
          "output_type": "execute_result",
          "data": {
            "text/plain": [
              "<keras.callbacks.History at 0x9b117f0>"
            ]
          },
          "metadata": {
            "tags": []
          },
          "execution_count": 22
        }
      ]
    },
    {
      "metadata": {
        "id": "n3ONSSm4X_13",
        "colab_type": "code",
        "colab": {}
      },
      "cell_type": "code",
      "source": [
        "hticks = np.linspace(-1.5, 1.5, 101)\n",
        "vticks = np.linspace(-1.5, 1.5, 101)\n",
        "aa, bb = np.meshgrid(hticks, vticks)\n",
        "ab = np.c_[aa.ravel(), bb.ravel()]\n",
        "c = model.predict(ab)\n",
        "cc = c.reshape(aa.shape)\n",
        "plt.figure(figsize=(5, 5))\n",
        "plt.contourf(aa, bb, cc, cmap='bwr', alpha=0.2)\n",
        "plt.plot(X[y==0, 0], X[y==0, 1], 'ob', alpha=0.5)\n",
        "plt.plot(X[y==1, 0], X[y==1, 1], 'xr', alpha=0.5)\n",
        "plt.xlim(-1.5, 1.5)\n",
        "plt.ylim(-1.5, 1.5)\n",
        "plt.legend(['0', '1'])\n",
        "plt.title(\"Blue circles and Red crosses\")"
      ],
      "execution_count": 0,
      "outputs": []
    },
    {
      "metadata": {
        "id": "sBb6yBedX_2C",
        "colab_type": "code",
        "colab": {}
      },
      "cell_type": "code",
      "source": [
        "hticks=np.linspace(-1.5,1.5,101)\n",
        "vticks=np.linspace(-1.5,1.5,101)\n",
        "aa,bb=np.meshgrid(hticks,vticks)"
      ],
      "execution_count": 0,
      "outputs": []
    },
    {
      "metadata": {
        "id": "fZfflvsyX_2O",
        "colab_type": "code",
        "colab": {},
        "outputId": "ecea69bb-ad1a-4159-ebde-90f5f21b4328"
      },
      "cell_type": "code",
      "source": [
        "ab=np.c_[aa.ravel(),bb.ravel()]\n",
        "ab"
      ],
      "execution_count": 0,
      "outputs": [
        {
          "output_type": "execute_result",
          "data": {
            "text/plain": [
              "array([[-1.5 , -1.5 ],\n",
              "       [-1.47, -1.5 ],\n",
              "       [-1.44, -1.5 ],\n",
              "       ..., \n",
              "       [ 1.44,  1.5 ],\n",
              "       [ 1.47,  1.5 ],\n",
              "       [ 1.5 ,  1.5 ]])"
            ]
          },
          "metadata": {
            "tags": []
          },
          "execution_count": 25
        }
      ]
    },
    {
      "metadata": {
        "id": "sOLNnrcHX_2b",
        "colab_type": "code",
        "colab": {},
        "outputId": "ce21d2dd-a3ef-4b6d-e58b-e5e5e0862588"
      },
      "cell_type": "code",
      "source": [
        "c=model.predict(ab)\n",
        "c"
      ],
      "execution_count": 0,
      "outputs": [
        {
          "output_type": "execute_result",
          "data": {
            "text/plain": [
              "array([[ 0.02755819],\n",
              "       [ 0.0258607 ],\n",
              "       [ 0.02419427],\n",
              "       ..., \n",
              "       [ 0.00445842],\n",
              "       [ 0.00333405],\n",
              "       [ 0.00247728]], dtype=float32)"
            ]
          },
          "metadata": {
            "tags": []
          },
          "execution_count": 27
        }
      ]
    },
    {
      "metadata": {
        "id": "ZsAURYLHX_2r",
        "colab_type": "code",
        "colab": {},
        "outputId": "5d75ddf6-e5a0-4a88-c1e2-84198d841c76"
      },
      "cell_type": "code",
      "source": [
        "cc = c.reshape(aa.shape)\n",
        "plt.figure(figsize=(5, 5))\n",
        "plt.contourf(aa, bb, cc, cmap='bwr', alpha=0.2)\n",
        "plt.plot(x[y==0, 0], x[y==0, 1], 'ob', alpha=0.5)\n",
        "plt.plot(x[y==1, 0], x[y==1, 1], 'xr', alpha=0.5)\n",
        "plt.xlim(-1.5, 1.5)\n",
        "plt.ylim(-1.5, 1.5)\n",
        "plt.legend(['0', '1'])\n",
        "plt.title(\"Blue circles and Red crosses\")"
      ],
      "execution_count": 0,
      "outputs": [
        {
          "output_type": "execute_result",
          "data": {
            "text/plain": [
              "Text(0.5,1,'Blue circles and Red crosses')"
            ]
          },
          "metadata": {
            "tags": []
          },
          "execution_count": 29
        },
        {
          "output_type": "display_data",
          "data": {
            "image/png": "[encoded data removed]",
            "text/plain": [
              "<Figure size 360x360 with 1 Axes>"
            ]
          },
          "metadata": {
            "tags": []
          }
        }
      ]
    },
    {
      "metadata": {
        "id": "oggytQQ0X_23",
        "colab_type": "code",
        "colab": {},
        "outputId": "84c43455-9ff3-481b-faf6-26a9cb7865a2"
      },
      "cell_type": "code",
      "source": [
        "import pandas as pd \n",
        "data=pd.read_csv('D:/jos vai/zero-to-deep-learning with keras/zero_to_deep_learning_udemy-master/data/weight-height.csv')\n",
        "data.head()"
      ],
      "execution_count": 0,
      "outputs": [
        {
          "output_type": "execute_result",
          "data": {
            "text/html": [
              "<div>\n",
              "<style scoped>\n",
              "    .dataframe tbody tr th:only-of-type {\n",
              "        vertical-align: middle;\n",
              "    }\n",
              "\n",
              "    .dataframe tbody tr th {\n",
              "        vertical-align: top;\n",
              "    }\n",
              "\n",
              "    .dataframe thead th {\n",
              "        text-align: right;\n",
              "    }\n",
              "</style>\n",
              "<table border=\"1\" class=\"dataframe\">\n",
              "  <thead>\n",
              "    <tr style=\"text-align: right;\">\n",
              "      <th></th>\n",
              "      <th>Gender</th>\n",
              "      <th>Height</th>\n",
              "      <th>Weight</th>\n",
              "    </tr>\n",
              "  </thead>\n",
              "  <tbody>\n",
              "    <tr>\n",
              "      <th>0</th>\n",
              "      <td>Male</td>\n",
              "      <td>73.847017</td>\n",
              "      <td>241.893563</td>\n",
              "    </tr>\n",
              "    <tr>\n",
              "      <th>1</th>\n",
              "      <td>Male</td>\n",
              "      <td>68.781904</td>\n",
              "      <td>162.310473</td>\n",
              "    </tr>\n",
              "    <tr>\n",
              "      <th>2</th>\n",
              "      <td>Male</td>\n",
              "      <td>74.110105</td>\n",
              "      <td>212.740856</td>\n",
              "    </tr>\n",
              "    <tr>\n",
              "      <th>3</th>\n",
              "      <td>Male</td>\n",
              "      <td>71.730978</td>\n",
              "      <td>220.042470</td>\n",
              "    </tr>\n",
              "    <tr>\n",
              "      <th>4</th>\n",
              "      <td>Male</td>\n",
              "      <td>69.881796</td>\n",
              "      <td>206.349801</td>\n",
              "    </tr>\n",
              "  </tbody>\n",
              "</table>\n",
              "</div>"
            ],
            "text/plain": [
              "  Gender     Height      Weight\n",
              "0   Male  73.847017  241.893563\n",
              "1   Male  68.781904  162.310473\n",
              "2   Male  74.110105  212.740856\n",
              "3   Male  71.730978  220.042470\n",
              "4   Male  69.881796  206.349801"
            ]
          },
          "metadata": {
            "tags": []
          },
          "execution_count": 30
        }
      ]
    },
    {
      "metadata": {
        "id": "t6PzeiUWX_3I",
        "colab_type": "code",
        "colab": {},
        "outputId": "856713a2-a206-439c-f6ca-e88e788e8f03"
      },
      "cell_type": "code",
      "source": [
        "data.plot(kind='scatter',x='Height',y='Weight',title='height and weight in adults')\n",
        "plt.plot([55, 78], [75, 250], color='red', linewidth=3)"
      ],
      "execution_count": 0,
      "outputs": [
        {
          "output_type": "execute_result",
          "data": {
            "text/plain": [
              "[<matplotlib.lines.Line2D at 0xabe18f0>]"
            ]
          },
          "metadata": {
            "tags": []
          },
          "execution_count": 33
        },
        {
          "output_type": "display_data",
          "data": {
            "image/png": "[encoded data removed]",
            "text/plain": [
              "<Figure size 432x288 with 1 Axes>"
            ]
          },
          "metadata": {
            "tags": []
          }
        }
      ]
    },
    {
      "metadata": {
        "id": "2McZvsgHX_3U",
        "colab_type": "code",
        "colab": {},
        "outputId": "7fa37ca5-e64d-4fc6-b740-42821a36cfd0"
      },
      "cell_type": "code",
      "source": [
        "data.info"
      ],
      "execution_count": 0,
      "outputs": [
        {
          "output_type": "execute_result",
          "data": {
            "text/plain": [
              "<bound method DataFrame.info of       Gender     Height      Weight\n",
              "0       Male  73.847017  241.893563\n",
              "1       Male  68.781904  162.310473\n",
              "2       Male  74.110105  212.740856\n",
              "3       Male  71.730978  220.042470\n",
              "4       Male  69.881796  206.349801\n",
              "5       Male  67.253016  152.212156\n",
              "6       Male  68.785081  183.927889\n",
              "7       Male  68.348516  167.971110\n",
              "8       Male  67.018950  175.929440\n",
              "9       Male  63.456494  156.399676\n",
              "10      Male  71.195382  186.604926\n",
              "11      Male  71.640805  213.741169\n",
              "12      Male  64.766329  167.127461\n",
              "13      Male  69.283070  189.446181\n",
              "14      Male  69.243732  186.434168\n",
              "15      Male  67.645620  172.186930\n",
              "16      Male  72.418317  196.028506\n",
              "17      Male  63.974326  172.883470\n",
              "18      Male  69.640060  185.983958\n",
              "19      Male  67.936005  182.426648\n",
              "20      Male  67.915050  174.115929\n",
              "21      Male  69.439440  197.731422\n",
              "22      Male  66.149132  149.173566\n",
              "23      Male  75.205974  228.761781\n",
              "24      Male  67.893196  162.006652\n",
              "25      Male  68.144033  192.343977\n",
              "26      Male  69.089631  184.435174\n",
              "27      Male  72.800844  206.828189\n",
              "28      Male  67.421242  175.213922\n",
              "29      Male  68.496415  154.342639\n",
              "...      ...        ...         ...\n",
              "9970  Female  65.618737  151.500389\n",
              "9971  Female  64.640247  155.318297\n",
              "9972  Female  60.653733  123.084293\n",
              "9973  Female  60.737031  120.926500\n",
              "9974  Female  65.393947  143.017835\n",
              "9975  Female  66.251923  124.019917\n",
              "9976  Female  61.475904  121.387236\n",
              "9977  Female  64.494838  149.402547\n",
              "9978  Female  57.375759  114.192209\n",
              "9979  Female  62.056012  125.135897\n",
              "9980  Female  60.472262  110.768229\n",
              "9981  Female  60.443264  135.559390\n",
              "9982  Female  69.868511  177.992066\n",
              "9983  Female  65.830726  132.827889\n",
              "9984  Female  59.047029  111.707369\n",
              "9985  Female  68.041065  170.514213\n",
              "9986  Female  63.352698  141.906510\n",
              "9987  Female  65.610243  151.169475\n",
              "9988  Female  59.538729  121.244876\n",
              "9989  Female  60.955084   95.686674\n",
              "9990  Female  63.179498  141.266100\n",
              "9991  Female  62.636675  102.853563\n",
              "9992  Female  62.077832  138.691680\n",
              "9993  Female  60.030434   97.687432\n",
              "9994  Female  59.098250  110.529686\n",
              "9995  Female  66.172652  136.777454\n",
              "9996  Female  67.067155  170.867906\n",
              "9997  Female  63.867992  128.475319\n",
              "9998  Female  69.034243  163.852461\n",
              "9999  Female  61.944246  113.649103\n",
              "\n",
              "[10000 rows x 3 columns]>"
            ]
          },
          "metadata": {
            "tags": []
          },
          "execution_count": 34
        }
      ]
    },
    {
      "metadata": {
        "id": "EPLmpBTJX_3g",
        "colab_type": "code",
        "colab": {}
      },
      "cell_type": "code",
      "source": [
        "model.add(Dense(1,input_shape=(1,)))"
      ],
      "execution_count": 0,
      "outputs": []
    },
    {
      "metadata": {
        "id": "cQnzBivEX_3o",
        "colab_type": "code",
        "colab": {},
        "outputId": "1cc8ada7-a408-4639-d5bd-23db0f6d39d5"
      },
      "cell_type": "code",
      "source": [
        "model.summary()"
      ],
      "execution_count": 0,
      "outputs": [
        {
          "output_type": "stream",
          "text": [
            "_________________________________________________________________\n",
            "Layer (type)                 Output Shape              Param #   \n",
            "=================================================================\n",
            "dense_1 (Dense)              (None, 4)                 12        \n",
            "_________________________________________________________________\n",
            "dense_2 (Dense)              (None, 1)                 5         \n",
            "_________________________________________________________________\n",
            "dense_3 (Dense)              (None, 1)                 2         \n",
            "_________________________________________________________________\n",
            "dense_4 (Dense)              (None, 1)                 2         \n",
            "=================================================================\n",
            "Total params: 21\n",
            "Trainable params: 21\n",
            "Non-trainable params: 0\n",
            "_________________________________________________________________\n"
          ],
          "name": "stdout"
        }
      ]
    },
    {
      "metadata": {
        "id": "xE1lJMJiX_30",
        "colab_type": "code",
        "colab": {},
        "outputId": "038fa6ea-fda5-4bfd-adad-0361fe453452"
      },
      "cell_type": "code",
      "source": [
        "x=data[['Height']].values\n",
        "x"
      ],
      "execution_count": 0,
      "outputs": [
        {
          "output_type": "execute_result",
          "data": {
            "text/plain": [
              "array([[ 73.84701702],\n",
              "       [ 68.78190405],\n",
              "       [ 74.11010539],\n",
              "       ..., \n",
              "       [ 63.86799221],\n",
              "       [ 69.03424313],\n",
              "       [ 61.94424588]])"
            ]
          },
          "metadata": {
            "tags": []
          },
          "execution_count": 51
        }
      ]
    },
    {
      "metadata": {
        "id": "Yc6G_CbjX_4C",
        "colab_type": "code",
        "colab": {},
        "outputId": "37cfc263-4c6b-4476-fc62-33fc874c08ce"
      },
      "cell_type": "code",
      "source": [
        "y_true = data['Weight'].values\n",
        "y_true"
      ],
      "execution_count": 0,
      "outputs": [
        {
          "output_type": "execute_result",
          "data": {
            "text/plain": [
              "array([ 241.89356318,  162.31047252,  212.74085556, ...,  128.47531878,\n",
              "        163.85246135,  113.64910268])"
            ]
          },
          "metadata": {
            "tags": []
          },
          "execution_count": 72
        }
      ]
    },
    {
      "metadata": {
        "id": "vyVepwPkX_4S",
        "colab_type": "code",
        "colab": {}
      },
      "cell_type": "code",
      "source": [
        "def line(x,w=0,b=0):\n",
        "    return x* w+ b"
      ],
      "execution_count": 0,
      "outputs": []
    },
    {
      "metadata": {
        "id": "oev3Aj2iX_4f",
        "colab_type": "code",
        "colab": {},
        "outputId": "25bf151e-ed30-43de-f922-66445918a096"
      },
      "cell_type": "code",
      "source": [
        "x=np.linspace(55,80,100)\n",
        "x"
      ],
      "execution_count": 0,
      "outputs": [
        {
          "output_type": "execute_result",
          "data": {
            "text/plain": [
              "array([ 55.        ,  55.25252525,  55.50505051,  55.75757576,\n",
              "        56.01010101,  56.26262626,  56.51515152,  56.76767677,\n",
              "        57.02020202,  57.27272727,  57.52525253,  57.77777778,\n",
              "        58.03030303,  58.28282828,  58.53535354,  58.78787879,\n",
              "        59.04040404,  59.29292929,  59.54545455,  59.7979798 ,\n",
              "        60.05050505,  60.3030303 ,  60.55555556,  60.80808081,\n",
              "        61.06060606,  61.31313131,  61.56565657,  61.81818182,\n",
              "        62.07070707,  62.32323232,  62.57575758,  62.82828283,\n",
              "        63.08080808,  63.33333333,  63.58585859,  63.83838384,\n",
              "        64.09090909,  64.34343434,  64.5959596 ,  64.84848485,\n",
              "        65.1010101 ,  65.35353535,  65.60606061,  65.85858586,\n",
              "        66.11111111,  66.36363636,  66.61616162,  66.86868687,\n",
              "        67.12121212,  67.37373737,  67.62626263,  67.87878788,\n",
              "        68.13131313,  68.38383838,  68.63636364,  68.88888889,\n",
              "        69.14141414,  69.39393939,  69.64646465,  69.8989899 ,\n",
              "        70.15151515,  70.4040404 ,  70.65656566,  70.90909091,\n",
              "        71.16161616,  71.41414141,  71.66666667,  71.91919192,\n",
              "        72.17171717,  72.42424242,  72.67676768,  72.92929293,\n",
              "        73.18181818,  73.43434343,  73.68686869,  73.93939394,\n",
              "        74.19191919,  74.44444444,  74.6969697 ,  74.94949495,\n",
              "        75.2020202 ,  75.45454545,  75.70707071,  75.95959596,\n",
              "        76.21212121,  76.46464646,  76.71717172,  76.96969697,\n",
              "        77.22222222,  77.47474747,  77.72727273,  77.97979798,\n",
              "        78.23232323,  78.48484848,  78.73737374,  78.98989899,\n",
              "        79.24242424,  79.49494949,  79.74747475,  80.        ])"
            ]
          },
          "metadata": {
            "tags": []
          },
          "execution_count": 77
        }
      ]
    },
    {
      "metadata": {
        "id": "jnqslTfzX_4r",
        "colab_type": "code",
        "colab": {},
        "outputId": "92927fc5-3161-43d9-b753-97749ebd3357"
      },
      "cell_type": "code",
      "source": [
        "yhat=line(x,w=0,b=0)\n",
        "yhat"
      ],
      "execution_count": 0,
      "outputs": [
        {
          "output_type": "execute_result",
          "data": {
            "text/plain": [
              "array([ 0.,  0.,  0.,  0.,  0.,  0.,  0.,  0.,  0.,  0.,  0.,  0.,  0.,\n",
              "        0.,  0.,  0.,  0.,  0.,  0.,  0.,  0.,  0.,  0.,  0.,  0.,  0.,\n",
              "        0.,  0.,  0.,  0.,  0.,  0.,  0.,  0.,  0.,  0.,  0.,  0.,  0.,\n",
              "        0.,  0.,  0.,  0.,  0.,  0.,  0.,  0.,  0.,  0.,  0.,  0.,  0.,\n",
              "        0.,  0.,  0.,  0.,  0.,  0.,  0.,  0.,  0.,  0.,  0.,  0.,  0.,\n",
              "        0.,  0.,  0.,  0.,  0.,  0.,  0.,  0.,  0.,  0.,  0.,  0.,  0.,\n",
              "        0.,  0.,  0.,  0.,  0.,  0.,  0.,  0.,  0.,  0.,  0.,  0.,  0.,\n",
              "        0.,  0.,  0.,  0.,  0.,  0.,  0.,  0.,  0.])"
            ]
          },
          "metadata": {
            "tags": []
          },
          "execution_count": 78
        }
      ]
    },
    {
      "metadata": {
        "id": "C4NpO8suX_42",
        "colab_type": "code",
        "colab": {},
        "outputId": "eb414907-4509-4cec-a473-a31ea69faa8e"
      },
      "cell_type": "code",
      "source": [
        "data.plot(kind='scatter',\n",
        "        x='Height',\n",
        "        y='Weight',\n",
        "        title='Weight and Height in adults')\n",
        "plt.plot(x, yhat, color='red', linewidth=3)"
      ],
      "execution_count": 0,
      "outputs": [
        {
          "output_type": "execute_result",
          "data": {
            "text/plain": [
              "[<matplotlib.lines.Line2D at 0xb133d50>]"
            ]
          },
          "metadata": {
            "tags": []
          },
          "execution_count": 79
        },
        {
          "output_type": "display_data",
          "data": {
            "image/png": "[encoded data removed]",
            "text/plain": [
              "<Figure size 432x288 with 1 Axes>"
            ]
          },
          "metadata": {
            "tags": []
          }
        }
      ]
    },
    {
      "metadata": {
        "id": "2txAUVa3X_5H",
        "colab_type": "code",
        "colab": {}
      },
      "cell_type": "code",
      "source": [
        "def mean_squared_error(y_true, y_pred):\n",
        "    s = (y_true - y_pred)**2\n",
        "    return s.mean()"
      ],
      "execution_count": 0,
      "outputs": []
    },
    {
      "metadata": {
        "id": "43kZVeFKX_5P",
        "colab_type": "code",
        "colab": {}
      },
      "cell_type": "code",
      "source": [
        "y_pred=line(x)"
      ],
      "execution_count": 0,
      "outputs": []
    },
    {
      "metadata": {
        "id": "ZLy-_-DzX_5X",
        "colab_type": "code",
        "colab": {},
        "outputId": "10312f7c-0f65-484e-ea96-d5d13ef951da"
      },
      "cell_type": "code",
      "source": [
        "y_pred"
      ],
      "execution_count": 0,
      "outputs": [
        {
          "output_type": "execute_result",
          "data": {
            "text/plain": [
              "array([ 0.,  0.,  0.,  0.,  0.,  0.,  0.,  0.,  0.,  0.,  0.,  0.,  0.,\n",
              "        0.,  0.,  0.,  0.,  0.,  0.,  0.,  0.,  0.,  0.,  0.,  0.,  0.,\n",
              "        0.,  0.,  0.,  0.,  0.,  0.,  0.,  0.,  0.,  0.,  0.,  0.,  0.,\n",
              "        0.,  0.,  0.,  0.,  0.,  0.,  0.,  0.,  0.,  0.,  0.,  0.,  0.,\n",
              "        0.,  0.,  0.,  0.,  0.,  0.,  0.,  0.,  0.,  0.,  0.,  0.,  0.,\n",
              "        0.,  0.,  0.,  0.,  0.,  0.,  0.,  0.,  0.,  0.,  0.,  0.,  0.,\n",
              "        0.,  0.,  0.,  0.,  0.,  0.,  0.,  0.,  0.,  0.,  0.,  0.,  0.,\n",
              "        0.,  0.,  0.,  0.,  0.,  0.,  0.,  0.,  0.])"
            ]
          },
          "metadata": {
            "tags": []
          },
          "execution_count": 81
        }
      ]
    },
    {
      "metadata": {
        "id": "RE9sywFYX_5i",
        "colab_type": "code",
        "colab": {}
      },
      "cell_type": "code",
      "source": [
        "y_pred=np.ravel"
      ],
      "execution_count": 0,
      "outputs": []
    },
    {
      "metadata": {
        "id": "AZ_ZHsB2X_5q",
        "colab_type": "code",
        "colab": {},
        "outputId": "e1719442-70d3-48ee-e110-a0f65c342503"
      },
      "cell_type": "code",
      "source": [
        "mean_squared_error(y_true, y_pred)"
      ],
      "execution_count": 0,
      "outputs": [
        {
          "output_type": "error",
          "ename": "TypeError",
          "evalue": "unsupported operand type(s) for -: 'float' and 'function'",
          "traceback": [
            "\u001b[1;31m\u001b[0m",
            "\u001b[1;31mTypeError\u001b[0mTraceback (most recent call last)",
            "\u001b[1;32m<ipython-input-85-85fe9a58db1d>\u001b[0m in \u001b[0;36m<module>\u001b[1;34m()\u001b[0m\n\u001b[1;32m----> 1\u001b[1;33m \u001b[0mmean_squared_error\u001b[0m\u001b[1;33m(\u001b[0m\u001b[0my_true\u001b[0m\u001b[1;33m,\u001b[0m \u001b[0my_pred\u001b[0m\u001b[1;33m)\u001b[0m\u001b[1;33m\u001b[0m\u001b[0m\n\u001b[0m",
            "\u001b[1;32m<ipython-input-68-e81b752354ea>\u001b[0m in \u001b[0;36mmean_squared_error\u001b[1;34m(y_true, y_pred)\u001b[0m\n\u001b[0;32m      1\u001b[0m \u001b[1;32mdef\u001b[0m \u001b[0mmean_squared_error\u001b[0m\u001b[1;33m(\u001b[0m\u001b[0my_true\u001b[0m\u001b[1;33m,\u001b[0m \u001b[0my_pred\u001b[0m\u001b[1;33m)\u001b[0m\u001b[1;33m:\u001b[0m\u001b[1;33m\u001b[0m\u001b[0m\n\u001b[1;32m----> 2\u001b[1;33m     \u001b[0ms\u001b[0m \u001b[1;33m=\u001b[0m \u001b[1;33m(\u001b[0m\u001b[0my_true\u001b[0m \u001b[1;33m-\u001b[0m \u001b[0my_pred\u001b[0m\u001b[1;33m)\u001b[0m\u001b[1;33m**\u001b[0m\u001b[1;36m2\u001b[0m\u001b[1;33m\u001b[0m\u001b[0m\n\u001b[0m\u001b[0;32m      3\u001b[0m     \u001b[1;32mreturn\u001b[0m \u001b[0ms\u001b[0m\u001b[1;33m.\u001b[0m\u001b[0mmean\u001b[0m\u001b[1;33m(\u001b[0m\u001b[1;33m)\u001b[0m\u001b[1;33m\u001b[0m\u001b[0m\n",
            "\u001b[1;31mTypeError\u001b[0m: unsupported operand type(s) for -: 'float' and 'function'"
          ]
        }
      ]
    },
    {
      "metadata": {
        "id": "akCWqPkzX_51",
        "colab_type": "code",
        "colab": {}
      },
      "cell_type": "code",
      "source": [
        "import theano as th"
      ],
      "execution_count": 0,
      "outputs": []
    },
    {
      "metadata": {
        "id": "ts_zB0oHX_59",
        "colab_type": "code",
        "colab": {},
        "outputId": "970f81f4-9df1-4e88-b950-902a81c3f252"
      },
      "cell_type": "code",
      "source": [
        "df=np.random.random((100,100))\n",
        "df"
      ],
      "execution_count": 0,
      "outputs": [
        {
          "output_type": "execute_result",
          "data": {
            "text/plain": [
              "array([[ 0.57558335,  0.20713873,  0.41902773, ...,  0.01488781,\n",
              "         0.45217526,  0.18162539],\n",
              "       [ 0.81594023,  0.6421216 ,  0.72417139, ...,  0.80139399,\n",
              "         0.01588832,  0.64272419],\n",
              "       [ 0.90371733,  0.64017855,  0.55315256, ...,  0.23440392,\n",
              "         0.82866622,  0.25751844],\n",
              "       ..., \n",
              "       [ 0.46567518,  0.66178008,  0.54092014, ...,  0.87705443,\n",
              "         0.80937773,  0.46266409],\n",
              "       [ 0.27740191,  0.91802745,  0.15239032, ...,  0.51039735,\n",
              "         0.71210975,  0.61169428],\n",
              "       [ 0.36678599,  0.04688393,  0.04390912, ...,  0.49569102,\n",
              "         0.92124984,  0.1174228 ]])"
            ]
          },
          "metadata": {
            "tags": []
          },
          "execution_count": 94
        }
      ]
    },
    {
      "metadata": {
        "id": "0XBufPriX_6I",
        "colab_type": "code",
        "colab": {},
        "outputId": "bee5a35f-9306-4288-803f-7b9eeb8dc453"
      },
      "cell_type": "code",
      "source": [
        "df.shape"
      ],
      "execution_count": 0,
      "outputs": [
        {
          "output_type": "execute_result",
          "data": {
            "text/plain": [
              "(100, 100)"
            ]
          },
          "metadata": {
            "tags": []
          },
          "execution_count": 95
        }
      ]
    },
    {
      "metadata": {
        "scrolled": true,
        "id": "uwCub__LX_6a",
        "colab_type": "code",
        "colab": {},
        "outputId": "9e5bd0c2-8016-47ca-9b1d-1568ab5decef"
      },
      "cell_type": "code",
      "source": [
        "labels=np.random.randint(2,size=(1000,1))\n",
        "labels"
      ],
      "execution_count": 0,
      "outputs": [
        {
          "output_type": "execute_result",
          "data": {
            "text/plain": [
              "array([[1],\n",
              "       [0],\n",
              "       [0],\n",
              "       [0],\n",
              "       [0],\n",
              "       [1],\n",
              "       [1],\n",
              "       [1],\n",
              "       [1],\n",
              "       [1],\n",
              "       [0],\n",
              "       [0],\n",
              "       [0],\n",
              "       [1],\n",
              "       [0],\n",
              "       [1],\n",
              "       [0],\n",
              "       [0],\n",
              "       [1],\n",
              "       [0],\n",
              "       [0],\n",
              "       [1],\n",
              "       [1],\n",
              "       [0],\n",
              "       [1],\n",
              "       [1],\n",
              "       [0],\n",
              "       [1],\n",
              "       [0],\n",
              "       [0],\n",
              "       [1],\n",
              "       [1],\n",
              "       [0],\n",
              "       [0],\n",
              "       [0],\n",
              "       [1],\n",
              "       [0],\n",
              "       [1],\n",
              "       [0],\n",
              "       [1],\n",
              "       [1],\n",
              "       [0],\n",
              "       [0],\n",
              "       [0],\n",
              "       [0],\n",
              "       [1],\n",
              "       [0],\n",
              "       [1],\n",
              "       [1],\n",
              "       [0],\n",
              "       [0],\n",
              "       [0],\n",
              "       [0],\n",
              "       [0],\n",
              "       [1],\n",
              "       [0],\n",
              "       [1],\n",
              "       [0],\n",
              "       [0],\n",
              "       [0],\n",
              "       [0],\n",
              "       [0],\n",
              "       [0],\n",
              "       [0],\n",
              "       [1],\n",
              "       [1],\n",
              "       [0],\n",
              "       [0],\n",
              "       [0],\n",
              "       [1],\n",
              "       [0],\n",
              "       [1],\n",
              "       [1],\n",
              "       [1],\n",
              "       [1],\n",
              "       [1],\n",
              "       [0],\n",
              "       [0],\n",
              "       [1],\n",
              "       [0],\n",
              "       [1],\n",
              "       [0],\n",
              "       [1],\n",
              "       [0],\n",
              "       [0],\n",
              "       [0],\n",
              "       [0],\n",
              "       [1],\n",
              "       [0],\n",
              "       [0],\n",
              "       [0],\n",
              "       [0],\n",
              "       [0],\n",
              "       [1],\n",
              "       [0],\n",
              "       [1],\n",
              "       [0],\n",
              "       [1],\n",
              "       [0],\n",
              "       [0],\n",
              "       [1],\n",
              "       [0],\n",
              "       [0],\n",
              "       [1],\n",
              "       [0],\n",
              "       [1],\n",
              "       [1],\n",
              "       [1],\n",
              "       [1],\n",
              "       [1],\n",
              "       [0],\n",
              "       [1],\n",
              "       [1],\n",
              "       [1],\n",
              "       [0],\n",
              "       [0],\n",
              "       [0],\n",
              "       [0],\n",
              "       [0],\n",
              "       [1],\n",
              "       [1],\n",
              "       [1],\n",
              "       [0],\n",
              "       [0],\n",
              "       [0],\n",
              "       [1],\n",
              "       [1],\n",
              "       [0],\n",
              "       [1],\n",
              "       [1],\n",
              "       [0],\n",
              "       [0],\n",
              "       [0],\n",
              "       [1],\n",
              "       [0],\n",
              "       [1],\n",
              "       [1],\n",
              "       [0],\n",
              "       [1],\n",
              "       [1],\n",
              "       [1],\n",
              "       [0],\n",
              "       [1],\n",
              "       [1],\n",
              "       [0],\n",
              "       [0],\n",
              "       [0],\n",
              "       [1],\n",
              "       [0],\n",
              "       [1],\n",
              "       [0],\n",
              "       [1],\n",
              "       [1],\n",
              "       [1],\n",
              "       [1],\n",
              "       [1],\n",
              "       [1],\n",
              "       [1],\n",
              "       [1],\n",
              "       [0],\n",
              "       [0],\n",
              "       [1],\n",
              "       [0],\n",
              "       [0],\n",
              "       [1],\n",
              "       [1],\n",
              "       [0],\n",
              "       [1],\n",
              "       [0],\n",
              "       [0],\n",
              "       [0],\n",
              "       [0],\n",
              "       [1],\n",
              "       [1],\n",
              "       [0],\n",
              "       [0],\n",
              "       [1],\n",
              "       [0],\n",
              "       [1],\n",
              "       [1],\n",
              "       [1],\n",
              "       [1],\n",
              "       [1],\n",
              "       [0],\n",
              "       [1],\n",
              "       [0],\n",
              "       [1],\n",
              "       [1],\n",
              "       [0],\n",
              "       [0],\n",
              "       [1],\n",
              "       [1],\n",
              "       [1],\n",
              "       [1],\n",
              "       [1],\n",
              "       [1],\n",
              "       [1],\n",
              "       [0],\n",
              "       [1],\n",
              "       [1],\n",
              "       [0],\n",
              "       [0],\n",
              "       [0],\n",
              "       [0],\n",
              "       [1],\n",
              "       [1],\n",
              "       [0],\n",
              "       [0],\n",
              "       [0],\n",
              "       [0],\n",
              "       [0],\n",
              "       [0],\n",
              "       [0],\n",
              "       [1],\n",
              "       [1],\n",
              "       [1],\n",
              "       [1],\n",
              "       [1],\n",
              "       [1],\n",
              "       [1],\n",
              "       [1],\n",
              "       [1],\n",
              "       [0],\n",
              "       [1],\n",
              "       [1],\n",
              "       [1],\n",
              "       [0],\n",
              "       [0],\n",
              "       [1],\n",
              "       [1],\n",
              "       [1],\n",
              "       [0],\n",
              "       [1],\n",
              "       [0],\n",
              "       [0],\n",
              "       [1],\n",
              "       [0],\n",
              "       [1],\n",
              "       [0],\n",
              "       [0],\n",
              "       [0],\n",
              "       [0],\n",
              "       [1],\n",
              "       [1],\n",
              "       [1],\n",
              "       [0],\n",
              "       [0],\n",
              "       [1],\n",
              "       [0],\n",
              "       [1],\n",
              "       [1],\n",
              "       [1],\n",
              "       [0],\n",
              "       [0],\n",
              "       [1],\n",
              "       [1],\n",
              "       [1],\n",
              "       [1],\n",
              "       [0],\n",
              "       [1],\n",
              "       [0],\n",
              "       [0],\n",
              "       [0],\n",
              "       [0],\n",
              "       [0],\n",
              "       [0],\n",
              "       [0],\n",
              "       [0],\n",
              "       [1],\n",
              "       [1],\n",
              "       [1],\n",
              "       [0],\n",
              "       [1],\n",
              "       [1],\n",
              "       [0],\n",
              "       [1],\n",
              "       [1],\n",
              "       [0],\n",
              "       [1],\n",
              "       [0],\n",
              "       [1],\n",
              "       [1],\n",
              "       [1],\n",
              "       [0],\n",
              "       [1],\n",
              "       [1],\n",
              "       [1],\n",
              "       [0],\n",
              "       [0],\n",
              "       [1],\n",
              "       [0],\n",
              "       [0],\n",
              "       [1],\n",
              "       [1],\n",
              "       [0],\n",
              "       [0],\n",
              "       [1],\n",
              "       [1],\n",
              "       [0],\n",
              "       [1],\n",
              "       [0],\n",
              "       [0],\n",
              "       [1],\n",
              "       [1],\n",
              "       [0],\n",
              "       [0],\n",
              "       [0],\n",
              "       [1],\n",
              "       [1],\n",
              "       [0],\n",
              "       [1],\n",
              "       [1],\n",
              "       [0],\n",
              "       [0],\n",
              "       [0],\n",
              "       [1],\n",
              "       [1],\n",
              "       [1],\n",
              "       [1],\n",
              "       [0],\n",
              "       [1],\n",
              "       [1],\n",
              "       [0],\n",
              "       [0],\n",
              "       [1],\n",
              "       [0],\n",
              "       [0],\n",
              "       [0],\n",
              "       [0],\n",
              "       [1],\n",
              "       [1],\n",
              "       [0],\n",
              "       [1],\n",
              "       [1],\n",
              "       [0],\n",
              "       [0],\n",
              "       [1],\n",
              "       [1],\n",
              "       [1],\n",
              "       [1],\n",
              "       [0],\n",
              "       [0],\n",
              "       [1],\n",
              "       [1],\n",
              "       [0],\n",
              "       [0],\n",
              "       [0],\n",
              "       [1],\n",
              "       [1],\n",
              "       [1],\n",
              "       [0],\n",
              "       [1],\n",
              "       [1],\n",
              "       [1],\n",
              "       [0],\n",
              "       [0],\n",
              "       [0],\n",
              "       [1],\n",
              "       [0],\n",
              "       [0],\n",
              "       [1],\n",
              "       [1],\n",
              "       [1],\n",
              "       [0],\n",
              "       [1],\n",
              "       [0],\n",
              "       [1],\n",
              "       [0],\n",
              "       [1],\n",
              "       [0],\n",
              "       [1],\n",
              "       [1],\n",
              "       [1],\n",
              "       [0],\n",
              "       [1],\n",
              "       [1],\n",
              "       [0],\n",
              "       [0],\n",
              "       [1],\n",
              "       [1],\n",
              "       [1],\n",
              "       [1],\n",
              "       [1],\n",
              "       [0],\n",
              "       [1],\n",
              "       [1],\n",
              "       [1],\n",
              "       [1],\n",
              "       [1],\n",
              "       [0],\n",
              "       [0],\n",
              "       [1],\n",
              "       [0],\n",
              "       [0],\n",
              "       [0],\n",
              "       [1],\n",
              "       [1],\n",
              "       [0],\n",
              "       [1],\n",
              "       [0],\n",
              "       [0],\n",
              "       [0],\n",
              "       [0],\n",
              "       [0],\n",
              "       [1],\n",
              "       [0],\n",
              "       [0],\n",
              "       [0],\n",
              "       [1],\n",
              "       [0],\n",
              "       [0],\n",
              "       [0],\n",
              "       [1],\n",
              "       [1],\n",
              "       [0],\n",
              "       [0],\n",
              "       [0],\n",
              "       [1],\n",
              "       [0],\n",
              "       [1],\n",
              "       [1],\n",
              "       [1],\n",
              "       [0],\n",
              "       [1],\n",
              "       [1],\n",
              "       [1],\n",
              "       [1],\n",
              "       [0],\n",
              "       [1],\n",
              "       [1],\n",
              "       [1],\n",
              "       [1],\n",
              "       [1],\n",
              "       [1],\n",
              "       [0],\n",
              "       [0],\n",
              "       [0],\n",
              "       [1],\n",
              "       [0],\n",
              "       [1],\n",
              "       [1],\n",
              "       [0],\n",
              "       [0],\n",
              "       [0],\n",
              "       [1],\n",
              "       [0],\n",
              "       [0],\n",
              "       [0],\n",
              "       [0],\n",
              "       [0],\n",
              "       [0],\n",
              "       [0],\n",
              "       [0],\n",
              "       [0],\n",
              "       [0],\n",
              "       [0],\n",
              "       [1],\n",
              "       [0],\n",
              "       [1],\n",
              "       [0],\n",
              "       [1],\n",
              "       [1],\n",
              "       [0],\n",
              "       [0],\n",
              "       [0],\n",
              "       [0],\n",
              "       [0],\n",
              "       [1],\n",
              "       [1],\n",
              "       [0],\n",
              "       [0],\n",
              "       [0],\n",
              "       [1],\n",
              "       [0],\n",
              "       [0],\n",
              "       [1],\n",
              "       [0],\n",
              "       [0],\n",
              "       [0],\n",
              "       [1],\n",
              "       [1],\n",
              "       [0],\n",
              "       [1],\n",
              "       [1],\n",
              "       [1],\n",
              "       [0],\n",
              "       [1],\n",
              "       [0],\n",
              "       [0],\n",
              "       [1],\n",
              "       [0],\n",
              "       [1],\n",
              "       [1],\n",
              "       [1],\n",
              "       [1],\n",
              "       [1],\n",
              "       [1],\n",
              "       [1],\n",
              "       [1],\n",
              "       [1],\n",
              "       [0],\n",
              "       [1],\n",
              "       [0],\n",
              "       [1],\n",
              "       [0],\n",
              "       [0],\n",
              "       [0],\n",
              "       [1],\n",
              "       [0],\n",
              "       [1],\n",
              "       [1],\n",
              "       [0],\n",
              "       [0],\n",
              "       [1],\n",
              "       [1],\n",
              "       [1],\n",
              "       [0],\n",
              "       [0],\n",
              "       [1],\n",
              "       [1],\n",
              "       [0],\n",
              "       [1],\n",
              "       [1],\n",
              "       [0],\n",
              "       [1],\n",
              "       [0],\n",
              "       [1],\n",
              "       [1],\n",
              "       [0],\n",
              "       [1],\n",
              "       [1],\n",
              "       [0],\n",
              "       [1],\n",
              "       [0],\n",
              "       [0],\n",
              "       [1],\n",
              "       [1],\n",
              "       [0],\n",
              "       [1],\n",
              "       [1],\n",
              "       [1],\n",
              "       [0],\n",
              "       [0],\n",
              "       [0],\n",
              "       [1],\n",
              "       [1],\n",
              "       [0],\n",
              "       [0],\n",
              "       [0],\n",
              "       [0],\n",
              "       [1],\n",
              "       [1],\n",
              "       [0],\n",
              "       [0],\n",
              "       [1],\n",
              "       [0],\n",
              "       [1],\n",
              "       [1],\n",
              "       [1],\n",
              "       [1],\n",
              "       [0],\n",
              "       [0],\n",
              "       [0],\n",
              "       [0],\n",
              "       [1],\n",
              "       [0],\n",
              "       [0],\n",
              "       [0],\n",
              "       [1],\n",
              "       [0],\n",
              "       [1],\n",
              "       [0],\n",
              "       [0],\n",
              "       [0],\n",
              "       [1],\n",
              "       [0],\n",
              "       [0],\n",
              "       [1],\n",
              "       [0],\n",
              "       [0],\n",
              "       [1],\n",
              "       [0],\n",
              "       [1],\n",
              "       [1],\n",
              "       [1],\n",
              "       [0],\n",
              "       [0],\n",
              "       [1],\n",
              "       [0],\n",
              "       [1],\n",
              "       [1],\n",
              "       [0],\n",
              "       [1],\n",
              "       [1],\n",
              "       [1],\n",
              "       [0],\n",
              "       [1],\n",
              "       [1],\n",
              "       [1],\n",
              "       [1],\n",
              "       [0],\n",
              "       [0],\n",
              "       [0],\n",
              "       [0],\n",
              "       [1],\n",
              "       [0],\n",
              "       [1],\n",
              "       [1],\n",
              "       [1],\n",
              "       [0],\n",
              "       [1],\n",
              "       [1],\n",
              "       [1],\n",
              "       [1],\n",
              "       [1],\n",
              "       [0],\n",
              "       [1],\n",
              "       [1],\n",
              "       [1],\n",
              "       [0],\n",
              "       [1],\n",
              "       [0],\n",
              "       [1],\n",
              "       [0],\n",
              "       [1],\n",
              "       [1],\n",
              "       [0],\n",
              "       [1],\n",
              "       [0],\n",
              "       [0],\n",
              "       [1],\n",
              "       [0],\n",
              "       [1],\n",
              "       [1],\n",
              "       [1],\n",
              "       [1],\n",
              "       [0],\n",
              "       [1],\n",
              "       [1],\n",
              "       [1],\n",
              "       [0],\n",
              "       [0],\n",
              "       [0],\n",
              "       [1],\n",
              "       [1],\n",
              "       [0],\n",
              "       [0],\n",
              "       [0],\n",
              "       [1],\n",
              "       [1],\n",
              "       [0],\n",
              "       [1],\n",
              "       [1],\n",
              "       [1],\n",
              "       [1],\n",
              "       [0],\n",
              "       [0],\n",
              "       [0],\n",
              "       [1],\n",
              "       [0],\n",
              "       [1],\n",
              "       [1],\n",
              "       [0],\n",
              "       [0],\n",
              "       [0],\n",
              "       [0],\n",
              "       [0],\n",
              "       [0],\n",
              "       [1],\n",
              "       [0],\n",
              "       [0],\n",
              "       [0],\n",
              "       [0],\n",
              "       [0],\n",
              "       [0],\n",
              "       [0],\n",
              "       [0],\n",
              "       [0],\n",
              "       [1],\n",
              "       [1],\n",
              "       [0],\n",
              "       [0],\n",
              "       [1],\n",
              "       [1],\n",
              "       [1],\n",
              "       [0],\n",
              "       [0],\n",
              "       [1],\n",
              "       [0],\n",
              "       [0],\n",
              "       [1],\n",
              "       [1],\n",
              "       [1],\n",
              "       [1],\n",
              "       [0],\n",
              "       [0],\n",
              "       [1],\n",
              "       [0],\n",
              "       [1],\n",
              "       [1],\n",
              "       [0],\n",
              "       [0],\n",
              "       [1],\n",
              "       [1],\n",
              "       [0],\n",
              "       [0],\n",
              "       [0],\n",
              "       [0],\n",
              "       [0],\n",
              "       [0],\n",
              "       [1],\n",
              "       [0],\n",
              "       [0],\n",
              "       [1],\n",
              "       [0],\n",
              "       [0],\n",
              "       [0],\n",
              "       [0],\n",
              "       [1],\n",
              "       [0],\n",
              "       [0],\n",
              "       [1],\n",
              "       [0],\n",
              "       [0],\n",
              "       [0],\n",
              "       [0],\n",
              "       [1],\n",
              "       [1],\n",
              "       [0],\n",
              "       [0],\n",
              "       [0],\n",
              "       [1],\n",
              "       [1],\n",
              "       [0],\n",
              "       [0],\n",
              "       [1],\n",
              "       [0],\n",
              "       [1],\n",
              "       [1],\n",
              "       [1],\n",
              "       [1],\n",
              "       [0],\n",
              "       [0],\n",
              "       [1],\n",
              "       [0],\n",
              "       [0],\n",
              "       [1],\n",
              "       [1],\n",
              "       [0],\n",
              "       [0],\n",
              "       [1],\n",
              "       [1],\n",
              "       [1],\n",
              "       [1],\n",
              "       [0],\n",
              "       [0],\n",
              "       [0],\n",
              "       [0],\n",
              "       [0],\n",
              "       [1],\n",
              "       [0],\n",
              "       [1],\n",
              "       [1],\n",
              "       [0],\n",
              "       [1],\n",
              "       [1],\n",
              "       [1],\n",
              "       [1],\n",
              "       [0],\n",
              "       [1],\n",
              "       [0],\n",
              "       [1],\n",
              "       [0],\n",
              "       [0],\n",
              "       [0],\n",
              "       [0],\n",
              "       [0],\n",
              "       [0],\n",
              "       [0],\n",
              "       [0],\n",
              "       [0],\n",
              "       [1],\n",
              "       [0],\n",
              "       [0],\n",
              "       [0],\n",
              "       [1],\n",
              "       [1],\n",
              "       [1],\n",
              "       [0],\n",
              "       [0],\n",
              "       [1],\n",
              "       [0],\n",
              "       [0],\n",
              "       [0],\n",
              "       [0],\n",
              "       [1],\n",
              "       [1],\n",
              "       [0],\n",
              "       [0],\n",
              "       [0],\n",
              "       [0],\n",
              "       [0],\n",
              "       [0],\n",
              "       [0],\n",
              "       [1],\n",
              "       [1],\n",
              "       [0],\n",
              "       [0],\n",
              "       [1],\n",
              "       [0],\n",
              "       [1],\n",
              "       [1],\n",
              "       [0],\n",
              "       [0],\n",
              "       [0],\n",
              "       [1],\n",
              "       [0],\n",
              "       [1],\n",
              "       [1],\n",
              "       [1],\n",
              "       [0],\n",
              "       [1],\n",
              "       [0],\n",
              "       [1],\n",
              "       [0],\n",
              "       [1],\n",
              "       [1],\n",
              "       [1],\n",
              "       [1],\n",
              "       [1],\n",
              "       [0],\n",
              "       [1],\n",
              "       [0],\n",
              "       [1],\n",
              "       [0],\n",
              "       [1],\n",
              "       [0],\n",
              "       [0],\n",
              "       [1],\n",
              "       [1],\n",
              "       [0],\n",
              "       [0],\n",
              "       [0],\n",
              "       [0],\n",
              "       [1],\n",
              "       [0],\n",
              "       [0],\n",
              "       [1],\n",
              "       [1],\n",
              "       [1],\n",
              "       [1],\n",
              "       [0],\n",
              "       [0],\n",
              "       [0],\n",
              "       [0],\n",
              "       [1],\n",
              "       [1],\n",
              "       [0],\n",
              "       [1],\n",
              "       [1],\n",
              "       [0],\n",
              "       [1],\n",
              "       [1],\n",
              "       [0],\n",
              "       [1],\n",
              "       [1],\n",
              "       [1],\n",
              "       [0],\n",
              "       [0],\n",
              "       [0],\n",
              "       [0],\n",
              "       [1],\n",
              "       [1],\n",
              "       [0],\n",
              "       [0],\n",
              "       [1],\n",
              "       [1],\n",
              "       [0],\n",
              "       [1],\n",
              "       [0],\n",
              "       [0],\n",
              "       [0],\n",
              "       [1],\n",
              "       [1],\n",
              "       [0],\n",
              "       [0],\n",
              "       [1],\n",
              "       [1],\n",
              "       [1],\n",
              "       [0],\n",
              "       [1],\n",
              "       [0],\n",
              "       [1],\n",
              "       [1],\n",
              "       [1],\n",
              "       [0],\n",
              "       [0],\n",
              "       [1],\n",
              "       [0],\n",
              "       [1],\n",
              "       [1],\n",
              "       [1],\n",
              "       [1],\n",
              "       [0],\n",
              "       [0],\n",
              "       [0],\n",
              "       [1],\n",
              "       [0],\n",
              "       [1],\n",
              "       [1],\n",
              "       [0],\n",
              "       [1],\n",
              "       [0],\n",
              "       [0],\n",
              "       [0],\n",
              "       [1],\n",
              "       [1],\n",
              "       [1],\n",
              "       [1],\n",
              "       [0],\n",
              "       [0],\n",
              "       [0],\n",
              "       [0],\n",
              "       [1],\n",
              "       [0],\n",
              "       [1],\n",
              "       [0],\n",
              "       [1],\n",
              "       [0],\n",
              "       [1],\n",
              "       [0],\n",
              "       [0],\n",
              "       [1],\n",
              "       [1],\n",
              "       [1],\n",
              "       [0],\n",
              "       [1],\n",
              "       [0],\n",
              "       [1],\n",
              "       [1],\n",
              "       [0],\n",
              "       [0],\n",
              "       [0],\n",
              "       [0],\n",
              "       [1],\n",
              "       [1],\n",
              "       [0],\n",
              "       [1],\n",
              "       [0],\n",
              "       [1],\n",
              "       [0],\n",
              "       [1],\n",
              "       [0],\n",
              "       [0],\n",
              "       [0],\n",
              "       [0],\n",
              "       [1],\n",
              "       [1],\n",
              "       [1],\n",
              "       [1],\n",
              "       [0],\n",
              "       [0],\n",
              "       [1],\n",
              "       [0],\n",
              "       [1],\n",
              "       [1],\n",
              "       [0],\n",
              "       [1],\n",
              "       [1],\n",
              "       [0],\n",
              "       [0],\n",
              "       [0],\n",
              "       [1],\n",
              "       [0],\n",
              "       [0],\n",
              "       [0],\n",
              "       [1],\n",
              "       [0],\n",
              "       [1],\n",
              "       [0],\n",
              "       [1],\n",
              "       [1],\n",
              "       [0],\n",
              "       [1],\n",
              "       [1],\n",
              "       [0],\n",
              "       [1],\n",
              "       [0],\n",
              "       [1],\n",
              "       [0],\n",
              "       [0],\n",
              "       [1],\n",
              "       [1],\n",
              "       [1],\n",
              "       [0],\n",
              "       [1],\n",
              "       [0],\n",
              "       [0],\n",
              "       [0],\n",
              "       [0]])"
            ]
          },
          "metadata": {
            "tags": []
          },
          "execution_count": 96
        }
      ]
    },
    {
      "metadata": {
        "id": "GP2nMNnZX_6l",
        "colab_type": "code",
        "colab": {}
      },
      "cell_type": "code",
      "source": [
        "model.add(Dense(32,activation='relu',input_dim=100))"
      ],
      "execution_count": 0,
      "outputs": []
    },
    {
      "metadata": {
        "id": "Xh0MUnr4X_6t",
        "colab_type": "code",
        "colab": {}
      },
      "cell_type": "code",
      "source": [
        "model.add(Dense(1,activation='sigmoid'))"
      ],
      "execution_count": 0,
      "outputs": []
    },
    {
      "metadata": {
        "id": "YChVasMlX_66",
        "colab_type": "code",
        "colab": {}
      },
      "cell_type": "code",
      "source": [
        "model.compile(optimizer='rmsprop',loss='binary_crossentropy',metrics=['accuracy'])"
      ],
      "execution_count": 0,
      "outputs": []
    },
    {
      "metadata": {
        "id": "-ZpkK1aiX_7C",
        "colab_type": "code",
        "colab": {}
      },
      "cell_type": "code",
      "source": [
        "from keras.models import Sequential"
      ],
      "execution_count": 0,
      "outputs": []
    },
    {
      "metadata": {
        "id": "6aPxozmaX_7Z",
        "colab_type": "code",
        "colab": {}
      },
      "cell_type": "code",
      "source": [
        "from keras.layers import Dense"
      ],
      "execution_count": 0,
      "outputs": []
    },
    {
      "metadata": {
        "id": "vMO-XDkKX_7p",
        "colab_type": "code",
        "colab": {}
      },
      "cell_type": "code",
      "source": [
        "np.random.seed(7)"
      ],
      "execution_count": 0,
      "outputs": []
    },
    {
      "metadata": {
        "id": "5y8lFQY5X_7x",
        "colab_type": "code",
        "colab": {}
      },
      "cell_type": "code",
      "source": [
        "dataset=np.loadtxt('D:/jos vai/deep.csv',delimiter=\",\")"
      ],
      "execution_count": 0,
      "outputs": []
    },
    {
      "metadata": {
        "id": "k-mzfNpXX_75",
        "colab_type": "code",
        "colab": {},
        "outputId": "fddf909c-7982-4063-ec86-3c4460397930"
      },
      "cell_type": "code",
      "source": [
        "dataset"
      ],
      "execution_count": 0,
      "outputs": [
        {
          "output_type": "execute_result",
          "data": {
            "text/plain": [
              "array([[   6.   ,  148.   ,   72.   , ...,    0.627,   50.   ,    1.   ],\n",
              "       [   1.   ,   85.   ,   66.   , ...,    0.351,   31.   ,    0.   ],\n",
              "       [   8.   ,  183.   ,   64.   , ...,    0.672,   32.   ,    1.   ],\n",
              "       ..., \n",
              "       [   5.   ,  121.   ,   72.   , ...,    0.245,   30.   ,    0.   ],\n",
              "       [   1.   ,  126.   ,   60.   , ...,    0.349,   47.   ,    1.   ],\n",
              "       [   1.   ,   93.   ,   70.   , ...,    0.315,   23.   ,    0.   ]])"
            ]
          },
          "metadata": {
            "tags": []
          },
          "execution_count": 114
        }
      ]
    },
    {
      "metadata": {
        "id": "iTyW-HAPX_8L",
        "colab_type": "code",
        "colab": {},
        "outputId": "9d4435b6-a412-4855-df58-96a482b90899"
      },
      "cell_type": "code",
      "source": [
        "x=dataset[:,0:8]\n",
        "x.shape"
      ],
      "execution_count": 0,
      "outputs": [
        {
          "output_type": "execute_result",
          "data": {
            "text/plain": [
              "(768, 8)"
            ]
          },
          "metadata": {
            "tags": []
          },
          "execution_count": 116
        }
      ]
    },
    {
      "metadata": {
        "id": "9VwcVdWAX_8d",
        "colab_type": "code",
        "colab": {},
        "outputId": "04e05732-1e06-4e61-eab3-1675312f4bc1"
      },
      "cell_type": "code",
      "source": [
        "dataset.shape"
      ],
      "execution_count": 0,
      "outputs": [
        {
          "output_type": "execute_result",
          "data": {
            "text/plain": [
              "(768, 9)"
            ]
          },
          "metadata": {
            "tags": []
          },
          "execution_count": 117
        }
      ]
    },
    {
      "metadata": {
        "id": "bspvtbNtX_8u",
        "colab_type": "code",
        "colab": {}
      },
      "cell_type": "code",
      "source": [
        "y=dataset[:,8]\n"
      ],
      "execution_count": 0,
      "outputs": []
    },
    {
      "metadata": {
        "id": "iyA1C8jbX_81",
        "colab_type": "code",
        "colab": {}
      },
      "cell_type": "code",
      "source": [
        "model=Sequential()"
      ],
      "execution_count": 0,
      "outputs": []
    },
    {
      "metadata": {
        "id": "Y379KQJiX_9H",
        "colab_type": "code",
        "colab": {}
      },
      "cell_type": "code",
      "source": [
        "model.add(Dense(12,input_dim=8,activation='relu'))"
      ],
      "execution_count": 0,
      "outputs": []
    },
    {
      "metadata": {
        "id": "O7xfssE6X_9S",
        "colab_type": "code",
        "colab": {}
      },
      "cell_type": "code",
      "source": [
        "model.add(Dense(8,activation='relu'))\n",
        "model.add(Dense(1,activation='sigmoid'))"
      ],
      "execution_count": 0,
      "outputs": []
    },
    {
      "metadata": {
        "id": "A7yF29mIX_9a",
        "colab_type": "code",
        "colab": {}
      },
      "cell_type": "code",
      "source": [
        "model.compile(loss='binary_crossentropy',optimizer='adam',metrics=['accuracy'])"
      ],
      "execution_count": 0,
      "outputs": []
    },
    {
      "metadata": {
        "id": "ZbvDP3L3X_9h",
        "colab_type": "code",
        "colab": {},
        "outputId": "e24a89e6-c563-4ee0-aa1d-1a5fb3a163b9"
      },
      "cell_type": "code",
      "source": [
        "model.fit(x,y,epochs=150,batch_size=10)"
      ],
      "execution_count": 0,
      "outputs": [
        {
          "output_type": "stream",
          "text": [
            "Epoch 1/150\n",
            "768/768 [==============================] - 14s 18ms/step - loss: 1.0972 - acc: 0.5872\n",
            "Epoch 2/150\n",
            "768/768 [==============================] - 17s 23ms/step - loss: 0.7484 - acc: 0.6159 5s - loss:\n",
            "Epoch 3/150\n",
            "768/768 [==============================] - 12s 15ms/step - loss: 0.6884 - acc: 0.6107\n",
            "Epoch 4/150\n",
            "768/768 [==============================] - 12s 15ms/step - loss: 0.6698 - acc: 0.6406\n",
            "Epoch 5/150\n",
            "768/768 [==============================] - 11s 14ms/step - loss: 0.6397 - acc: 0.6328\n",
            "Epoch 6/150\n",
            "768/768 [==============================] - 12s 16ms/step - loss: 0.6272 - acc: 0.6576\n",
            "Epoch 7/150\n",
            "768/768 [==============================] - 13s 16ms/step - loss: 0.6254 - acc: 0.6628\n",
            "Epoch 8/150\n",
            "768/768 [==============================] - 12s 15ms/step - loss: 0.6309 - acc: 0.6510\n",
            "Epoch 9/150\n",
            "768/768 [==============================] - 11s 14ms/step - loss: 0.6223 - acc: 0.6680\n",
            "Epoch 10/150\n",
            "768/768 [==============================] - 16s 20ms/step - loss: 0.6195 - acc: 0.6654\n",
            "Epoch 11/150\n",
            "768/768 [==============================] - 15s 20ms/step - loss: 0.6287 - acc: 0.6693\n",
            "Epoch 12/150\n",
            "768/768 [==============================] - 16s 21ms/step - loss: 0.6128 - acc: 0.6849\n",
            "Epoch 13/150\n",
            "768/768 [==============================] - 21s 27ms/step - loss: 0.6232 - acc: 0.6693\n",
            "Epoch 14/150\n",
            "768/768 [==============================] - 19s 25ms/step - loss: 0.6125 - acc: 0.6732\n",
            "Epoch 15/150\n",
            "768/768 [==============================] - 12s 16ms/step - loss: 0.6161 - acc: 0.6784\n",
            "Epoch 16/150\n",
            "768/768 [==============================] - 13s 16ms/step - loss: 0.5992 - acc: 0.6888\n",
            "Epoch 17/150\n",
            "768/768 [==============================] - 12s 16ms/step - loss: 0.5966 - acc: 0.6927\n",
            "Epoch 18/150\n",
            "768/768 [==============================] - 13s 16ms/step - loss: 0.6091 - acc: 0.6693\n",
            "Epoch 19/150\n",
            "768/768 [==============================] - 11s 15ms/step - loss: 0.5944 - acc: 0.6901\n",
            "Epoch 20/150\n",
            "768/768 [==============================] - 12s 16ms/step - loss: 0.5766 - acc: 0.7083\n",
            "Epoch 21/150\n",
            "768/768 [==============================] - 12s 15ms/step - loss: 0.5850 - acc: 0.7018\n",
            "Epoch 22/150\n",
            "768/768 [==============================] - 12s 15ms/step - loss: 0.5933 - acc: 0.6719\n",
            "Epoch 23/150\n",
            "768/768 [==============================] - 11s 14ms/step - loss: 0.5862 - acc: 0.7031\n",
            "Epoch 24/150\n",
            "768/768 [==============================] - 12s 16ms/step - loss: 0.5823 - acc: 0.7018\n",
            "Epoch 25/150\n",
            "768/768 [==============================] - 13s 16ms/step - loss: 0.5755 - acc: 0.7161\n",
            "Epoch 26/150\n",
            "768/768 [==============================] - 12s 16ms/step - loss: 0.5772 - acc: 0.6979\n",
            "Epoch 27/150\n",
            "768/768 [==============================] - 12s 16ms/step - loss: 0.5682 - acc: 0.7096\n",
            "Epoch 28/150\n",
            "768/768 [==============================] - 12s 15ms/step - loss: 0.5622 - acc: 0.7370\n",
            "Epoch 29/150\n",
            "768/768 [==============================] - 12s 16ms/step - loss: 0.5840 - acc: 0.7070\n",
            "Epoch 30/150\n",
            "768/768 [==============================] - 12s 16ms/step - loss: 0.5716 - acc: 0.7109\n",
            "Epoch 31/150\n",
            "768/768 [==============================] - 12s 16ms/step - loss: 0.5785 - acc: 0.7044\n",
            "Epoch 32/150\n",
            "768/768 [==============================] - 12s 16ms/step - loss: 0.5656 - acc: 0.7174\n",
            "Epoch 33/150\n",
            "768/768 [==============================] - 13s 18ms/step - loss: 0.5560 - acc: 0.7214\n",
            "Epoch 34/150\n",
            "768/768 [==============================] - 13s 17ms/step - loss: 0.5607 - acc: 0.7279\n",
            "Epoch 35/150\n",
            "768/768 [==============================] - 20s 26ms/step - loss: 0.5612 - acc: 0.7174\n",
            "Epoch 36/150\n",
            "768/768 [==============================] - 17s 22ms/step - loss: 0.5670 - acc: 0.7174\n",
            "Epoch 37/150\n",
            "768/768 [==============================] - 17s 22ms/step - loss: 0.5434 - acc: 0.7383\n",
            "Epoch 38/150\n",
            "768/768 [==============================] - 13s 17ms/step - loss: 0.5490 - acc: 0.7292\n",
            "Epoch 39/150\n",
            "768/768 [==============================] - 14s 18ms/step - loss: 0.5574 - acc: 0.7370\n",
            "Epoch 40/150\n",
            "768/768 [==============================] - 13s 17ms/step - loss: 0.5503 - acc: 0.7279\n",
            "Epoch 41/150\n",
            "768/768 [==============================] - 16s 21ms/step - loss: 0.5486 - acc: 0.7214\n",
            "Epoch 42/150\n",
            "768/768 [==============================] - 13s 17ms/step - loss: 0.5467 - acc: 0.7174\n",
            "Epoch 43/150\n",
            "768/768 [==============================] - 12s 16ms/step - loss: 0.5484 - acc: 0.7357\n",
            "Epoch 44/150\n",
            "768/768 [==============================] - 13s 17ms/step - loss: 0.5387 - acc: 0.7409\n",
            "Epoch 45/150\n",
            "768/768 [==============================] - 12s 16ms/step - loss: 0.5372 - acc: 0.7487\n",
            "Epoch 46/150\n",
            "768/768 [==============================] - 15s 19ms/step - loss: 0.5430 - acc: 0.7409\n",
            "Epoch 47/150\n",
            "768/768 [==============================] - 14s 19ms/step - loss: 0.5355 - acc: 0.7383 4s - lo\n",
            "Epoch 48/150\n",
            "768/768 [==============================] - 12s 16ms/step - loss: 0.5460 - acc: 0.7370\n",
            "Epoch 49/150\n",
            "768/768 [==============================] - 12s 15ms/step - loss: 0.5348 - acc: 0.7500\n",
            "Epoch 50/150\n",
            "768/768 [==============================] - 12s 16ms/step - loss: 0.5355 - acc: 0.7474\n",
            "Epoch 51/150\n",
            "768/768 [==============================] - 13s 17ms/step - loss: 0.5333 - acc: 0.7409\n",
            "Epoch 52/150\n",
            "768/768 [==============================] - 21s 27ms/step - loss: 0.5377 - acc: 0.7383\n",
            "Epoch 53/150\n",
            "768/768 [==============================] - 15s 19ms/step - loss: 0.5350 - acc: 0.7474\n",
            "Epoch 54/150\n",
            "768/768 [==============================] - 25s 32ms/step - loss: 0.5459 - acc: 0.7305\n",
            "Epoch 55/150\n",
            "768/768 [==============================] - 16s 20ms/step - loss: 0.5261 - acc: 0.7552\n",
            "Epoch 56/150\n",
            "768/768 [==============================] - 12s 16ms/step - loss: 0.5383 - acc: 0.7422\n",
            "Epoch 57/150\n",
            "768/768 [==============================] - 12s 15ms/step - loss: 0.5336 - acc: 0.7383\n",
            "Epoch 58/150\n",
            "768/768 [==============================] - 12s 16ms/step - loss: 0.5281 - acc: 0.7435\n",
            "Epoch 59/150\n",
            "768/768 [==============================] - 13s 17ms/step - loss: 0.5206 - acc: 0.7422\n",
            "Epoch 60/150\n",
            "768/768 [==============================] - 14s 18ms/step - loss: 0.5400 - acc: 0.7422\n",
            "Epoch 61/150\n",
            "768/768 [==============================] - 16s 20ms/step - loss: 0.5221 - acc: 0.7305\n",
            "Epoch 62/150\n",
            "768/768 [==============================] - 14s 19ms/step - loss: 0.5208 - acc: 0.7500\n",
            "Epoch 63/150\n",
            "768/768 [==============================] - ETA: 0s - loss: 0.5476 - acc: 0.736 - 15s 19ms/step - loss: 0.5449 - acc: 0.7396\n",
            "Epoch 64/150\n",
            "768/768 [==============================] - 23s 30ms/step - loss: 0.5336 - acc: 0.7331\n",
            "Epoch 65/150\n",
            "768/768 [==============================] - 13s 17ms/step - loss: 0.5186 - acc: 0.7513\n",
            "Epoch 66/150\n",
            "768/768 [==============================] - 15s 20ms/step - loss: 0.5191 - acc: 0.7435 4s - l\n",
            "Epoch 67/150\n",
            "768/768 [==============================] - 14s 18ms/step - loss: 0.5271 - acc: 0.7461\n",
            "Epoch 68/150\n",
            "768/768 [==============================] - 14s 18ms/step - loss: 0.5191 - acc: 0.7357\n",
            "Epoch 69/150\n",
            "768/768 [==============================] - 15s 20ms/step - loss: 0.5221 - acc: 0.7292 4s - loss: 0.5350 - a - ETA: 2s - loss: 0.5350 \n",
            "Epoch 70/150\n",
            "768/768 [==============================] - 23s 30ms/step - loss: 0.5372 - acc: 0.7227\n",
            "Epoch 71/150\n",
            "768/768 [==============================] - 15s 20ms/step - loss: 0.5252 - acc: 0.7461\n",
            "Epoch 72/150\n",
            "768/768 [==============================] - 13s 16ms/step - loss: 0.5261 - acc: 0.7617\n",
            "Epoch 73/150\n",
            "768/768 [==============================] - 14s 18ms/step - loss: 0.5168 - acc: 0.7487\n",
            "Epoch 74/150\n",
            "768/768 [==============================] - 14s 18ms/step - loss: 0.5131 - acc: 0.7500\n",
            "Epoch 75/150\n",
            "768/768 [==============================] - 13s 17ms/step - loss: 0.5121 - acc: 0.7552\n",
            "Epoch 76/150\n",
            "768/768 [==============================] - 12s 16ms/step - loss: 0.5125 - acc: 0.7487\n",
            "Epoch 77/150\n",
            "768/768 [==============================] - 12s 16ms/step - loss: 0.5191 - acc: 0.7552\n",
            "Epoch 78/150\n",
            "768/768 [==============================] - 13s 17ms/step - loss: 0.5191 - acc: 0.7409\n",
            "Epoch 79/150\n",
            "768/768 [==============================] - 15s 20ms/step - loss: 0.5218 - acc: 0.7591 9s -  - ETA: 4s - lo\n",
            "Epoch 80/150\n",
            "768/768 [==============================] - 14s 18ms/step - loss: 0.5076 - acc: 0.7604 12s  - ETA: 10s  - ET\n",
            "Epoch 81/150\n",
            "768/768 [==============================] - 13s 17ms/step - loss: 0.5076 - acc: 0.7604\n",
            "Epoch 82/150\n",
            "768/768 [==============================] - 12s 15ms/step - loss: 0.5062 - acc: 0.7435\n",
            "Epoch 83/150\n",
            "768/768 [==============================] - 12s 15ms/step - loss: 0.5094 - acc: 0.7500\n",
            "Epoch 84/150\n",
            "768/768 [==============================] - 12s 16ms/step - loss: 0.4988 - acc: 0.7552\n",
            "Epoch 85/150\n",
            "768/768 [==============================] - 13s 17ms/step - loss: 0.5091 - acc: 0.7630\n",
            "Epoch 86/150\n",
            "768/768 [==============================] - 13s 17ms/step - loss: 0.5145 - acc: 0.7500\n",
            "Epoch 87/150\n",
            "768/768 [==============================] - 21s 28ms/step - loss: 0.5030 - acc: 0.7552\n",
            "Epoch 88/150\n",
            "768/768 [==============================] - 21s 28ms/step - loss: 0.4981 - acc: 0.7643\n",
            "Epoch 89/150\n",
            "768/768 [==============================] - 12s 15ms/step - loss: 0.5056 - acc: 0.7708\n",
            "Epoch 90/150\n",
            "768/768 [==============================] - 13s 16ms/step - loss: 0.5148 - acc: 0.7539\n",
            "Epoch 91/150\n",
            "768/768 [==============================] - 15s 20ms/step - loss: 0.5004 - acc: 0.7578\n",
            "Epoch 92/150\n",
            "768/768 [==============================] - 13s 17ms/step - loss: 0.5165 - acc: 0.7305\n",
            "Epoch 93/150\n",
            "768/768 [==============================] - 11s 15ms/step - loss: 0.4958 - acc: 0.7565\n",
            "Epoch 94/150\n",
            "768/768 [==============================] - 12s 16ms/step - loss: 0.4983 - acc: 0.7617\n",
            "Epoch 95/150\n",
            "768/768 [==============================] - 16s 21ms/step - loss: 0.5014 - acc: 0.7422\n",
            "Epoch 96/150\n",
            "768/768 [==============================] - 15s 19ms/step - loss: 0.4916 - acc: 0.7656\n",
            "Epoch 97/150\n",
            "768/768 [==============================] - 13s 17ms/step - loss: 0.4911 - acc: 0.7813\n",
            "Epoch 98/150\n",
            "768/768 [==============================] - 13s 16ms/step - loss: 0.4903 - acc: 0.7669\n",
            "Epoch 99/150\n",
            "768/768 [==============================] - 15s 19ms/step - loss: 0.4967 - acc: 0.7604 1s - loss: 0.4954 - acc\n",
            "Epoch 100/150\n",
            "768/768 [==============================] - 14s 18ms/step - loss: 0.4900 - acc: 0.7695\n",
            "Epoch 101/150\n",
            "768/768 [==============================] - 11s 15ms/step - loss: 0.4944 - acc: 0.7617\n",
            "Epoch 102/150\n",
            "768/768 [==============================] - 12s 16ms/step - loss: 0.5046 - acc: 0.7513\n",
            "Epoch 103/150\n",
            "768/768 [==============================] - 12s 16ms/step - loss: 0.4997 - acc: 0.7643\n",
            "Epoch 104/150\n",
            "768/768 [==============================] - 12s 16ms/step - loss: 0.5042 - acc: 0.7630\n",
            "Epoch 105/150\n",
            "768/768 [==============================] - 10s 14ms/step - loss: 0.5157 - acc: 0.7604\n",
            "Epoch 106/150\n",
            "768/768 [==============================] - 11s 14ms/step - loss: 0.4925 - acc: 0.7708\n",
            "Epoch 107/150\n",
            "768/768 [==============================] - 11s 14ms/step - loss: 0.4965 - acc: 0.7695\n",
            "Epoch 108/150\n",
            "768/768 [==============================] - 12s 15ms/step - loss: 0.5035 - acc: 0.7578\n",
            "Epoch 109/150\n",
            "768/768 [==============================] - 14s 18ms/step - loss: 0.4949 - acc: 0.7552\n",
            "Epoch 110/150\n",
            "768/768 [==============================] - 13s 17ms/step - loss: 0.4985 - acc: 0.7539\n",
            "Epoch 111/150\n",
            "768/768 [==============================] - 12s 16ms/step - loss: 0.4903 - acc: 0.7669\n",
            "Epoch 112/150\n",
            "768/768 [==============================] - 11s 14ms/step - loss: 0.4960 - acc: 0.7578\n",
            "Epoch 113/150\n",
            "768/768 [==============================] - 11s 14ms/step - loss: 0.5029 - acc: 0.7578\n",
            "Epoch 114/150\n",
            "768/768 [==============================] - 12s 16ms/step - loss: 0.5014 - acc: 0.7526\n",
            "Epoch 115/150\n",
            "768/768 [==============================] - 10s 13ms/step - loss: 0.4952 - acc: 0.7643\n",
            "Epoch 116/150\n",
            "768/768 [==============================] - 12s 16ms/step - loss: 0.5034 - acc: 0.7617\n",
            "Epoch 117/150\n",
            "768/768 [==============================] - 11s 15ms/step - loss: 0.4956 - acc: 0.7643\n",
            "Epoch 118/150\n",
            "768/768 [==============================] - 13s 16ms/step - loss: 0.4890 - acc: 0.7747\n",
            "Epoch 119/150\n",
            "768/768 [==============================] - 13s 17ms/step - loss: 0.4892 - acc: 0.7734\n",
            "Epoch 120/150\n",
            "768/768 [==============================] - 17s 22ms/step - loss: 0.4975 - acc: 0.7747 9s - loss: 0.4728 - ac \n",
            "Epoch 121/150\n",
            "768/768 [==============================] - 21s 28ms/step - loss: 0.4899 - acc: 0.7812\n",
            "Epoch 122/150\n",
            "768/768 [==============================] - 12s 16ms/step - loss: 0.4950 - acc: 0.7617\n",
            "Epoch 123/150\n",
            "768/768 [==============================] - 12s 16ms/step - loss: 0.4863 - acc: 0.7591\n",
            "Epoch 124/150\n",
            "768/768 [==============================] - 12s 16ms/step - loss: 0.4829 - acc: 0.7747\n",
            "Epoch 125/150\n",
            "768/768 [==============================] - 13s 17ms/step - loss: 0.4932 - acc: 0.7760\n",
            "Epoch 126/150\n",
            "768/768 [==============================] - 13s 17ms/step - loss: 0.4843 - acc: 0.7799\n",
            "Epoch 127/150\n",
            "768/768 [==============================] - 14s 18ms/step - loss: 0.4931 - acc: 0.7487\n",
            "Epoch 128/150\n",
            "768/768 [==============================] - 23s 30ms/step - loss: 0.4791 - acc: 0.7643\n",
            "Epoch 129/150\n",
            "768/768 [==============================] - 15s 20ms/step - loss: 0.4852 - acc: 0.7617\n",
            "Epoch 130/150\n",
            "768/768 [==============================] - 13s 16ms/step - loss: 0.4800 - acc: 0.7760\n",
            "Epoch 131/150\n",
            "768/768 [==============================] - 14s 18ms/step - loss: 0.4911 - acc: 0.7422\n",
            "Epoch 132/150\n",
            "768/768 [==============================] - 12s 16ms/step - loss: 0.4908 - acc: 0.7708\n",
            "Epoch 133/150\n",
            "768/768 [==============================] - 11s 15ms/step - loss: 0.4926 - acc: 0.7591\n",
            "Epoch 134/150\n",
            "768/768 [==============================] - 12s 16ms/step - loss: 0.4915 - acc: 0.7565\n",
            "Epoch 135/150\n",
            "768/768 [==============================] - 12s 15ms/step - loss: 0.4803 - acc: 0.7682\n",
            "Epoch 136/150\n",
            "768/768 [==============================] - 12s 16ms/step - loss: 0.4784 - acc: 0.7682\n",
            "Epoch 137/150\n",
            "768/768 [==============================] - 11s 14ms/step - loss: 0.4757 - acc: 0.7865\n",
            "Epoch 138/150\n",
            "768/768 [==============================] - 13s 17ms/step - loss: 0.4819 - acc: 0.7826\n",
            "Epoch 139/150\n",
            "768/768 [==============================] - 16s 21ms/step - loss: 0.4775 - acc: 0.7617\n",
            "Epoch 140/150\n",
            "768/768 [==============================] - 14s 18ms/step - loss: 0.4777 - acc: 0.7773\n",
            "Epoch 141/150\n",
            "768/768 [==============================] - 15s 19ms/step - loss: 0.4801 - acc: 0.7721\n",
            "Epoch 142/150\n",
            "768/768 [==============================] - 14s 18ms/step - loss: 0.4892 - acc: 0.7578\n",
            "Epoch 143/150\n",
            "768/768 [==============================] - 11s 14ms/step - loss: 0.4820 - acc: 0.7695\n",
            "Epoch 144/150\n",
            "768/768 [==============================] - 12s 15ms/step - loss: 0.4793 - acc: 0.7695\n",
            "Epoch 145/150\n",
            "768/768 [==============================] - 11s 14ms/step - loss: 0.5095 - acc: 0.7448\n",
            "Epoch 146/150\n",
            "768/768 [==============================] - 10s 13ms/step - loss: 0.4881 - acc: 0.7552\n",
            "Epoch 147/150\n",
            "768/768 [==============================] - 10s 13ms/step - loss: 0.4922 - acc: 0.7539\n",
            "Epoch 148/150\n",
            "768/768 [==============================] - 11s 15ms/step - loss: 0.4749 - acc: 0.7747\n",
            "Epoch 149/150\n",
            "768/768 [==============================] - 13s 18ms/step - loss: 0.4877 - acc: 0.7604\n",
            "Epoch 150/150\n",
            "768/768 [==============================] - 12s 16ms/step - loss: 0.4813 - acc: 0.7656\n"
          ],
          "name": "stdout"
        },
        {
          "output_type": "execute_result",
          "data": {
            "text/plain": [
              "<keras.callbacks.History at 0x9e07ef0>"
            ]
          },
          "metadata": {
            "tags": []
          },
          "execution_count": 129
        }
      ]
    },
    {
      "metadata": {
        "id": "69SKsnGHX_9q",
        "colab_type": "code",
        "colab": {},
        "outputId": "969ce14d-3cba-4db3-dd4d-02ef83d96a14"
      },
      "cell_type": "code",
      "source": [
        "score=model.evaluate(x,y)"
      ],
      "execution_count": 0,
      "outputs": [
        {
          "output_type": "stream",
          "text": [
            "768/768 [==============================] - 2s 3ms/step\n"
          ],
          "name": "stdout"
        }
      ]
    },
    {
      "metadata": {
        "id": "SEMJiSDIX_92",
        "colab_type": "code",
        "colab": {},
        "outputId": "c34baa53-3a08-40ce-9996-ace51c70e69a"
      },
      "cell_type": "code",
      "source": [
        "score"
      ],
      "execution_count": 0,
      "outputs": [
        {
          "output_type": "execute_result",
          "data": {
            "text/plain": [
              "[0.48576535036166507, 0.77994791666666663]"
            ]
          },
          "metadata": {
            "tags": []
          },
          "execution_count": 131
        }
      ]
    },
    {
      "metadata": {
        "id": "M0wqquzSX_9_",
        "colab_type": "code",
        "colab": {},
        "outputId": "af2e1fdc-6547-4211-d72b-0b08c29c3d0b"
      },
      "cell_type": "code",
      "source": [
        "print(\"\\n%s: %.2f%%\" % (model.metrics_names[1], score[1]*100))"
      ],
      "execution_count": 0,
      "outputs": [
        {
          "output_type": "stream",
          "text": [
            "\n",
            "acc: 77.99%\n"
          ],
          "name": "stdout"
        }
      ]
    },
    {
      "metadata": {
        "id": "Xvd9FQoGX_-H",
        "colab_type": "code",
        "colab": {},
        "outputId": "6293e5ef-632f-4ec1-9127-e3a62d2b686b"
      },
      "cell_type": "code",
      "source": [
        "model.metrics_names[0]"
      ],
      "execution_count": 0,
      "outputs": [
        {
          "output_type": "execute_result",
          "data": {
            "text/plain": [
              "'loss'"
            ]
          },
          "metadata": {
            "tags": []
          },
          "execution_count": 136
        }
      ]
    },
    {
      "metadata": {
        "id": "g20uWwFPX_-S",
        "colab_type": "code",
        "colab": {},
        "outputId": "007a6f21-f185-4b3a-91e5-ce1d964cb952"
      },
      "cell_type": "code",
      "source": [
        "model.metrics_tensors"
      ],
      "execution_count": 0,
      "outputs": [
        {
          "output_type": "execute_result",
          "data": {
            "text/plain": [
              "[mean]"
            ]
          },
          "metadata": {
            "tags": []
          },
          "execution_count": 137
        }
      ]
    },
    {
      "metadata": {
        "id": "LPC-G-w5X_-g",
        "colab_type": "code",
        "colab": {},
        "outputId": "ad8caaa3-f0b7-4986-d36f-48fa32c2894e"
      },
      "cell_type": "code",
      "source": [
        "model.fit(x, y, epochs=150, batch_size=10,  verbose=0)"
      ],
      "execution_count": 0,
      "outputs": [
        {
          "output_type": "execute_result",
          "data": {
            "text/plain": [
              "<keras.callbacks.History at 0xc4033b0>"
            ]
          },
          "metadata": {
            "tags": []
          },
          "execution_count": 139
        }
      ]
    },
    {
      "metadata": {
        "id": "iy3xcTcQX_-p",
        "colab_type": "code",
        "colab": {}
      },
      "cell_type": "code",
      "source": [
        "predictions = model.predict(x)\n"
      ],
      "execution_count": 0,
      "outputs": []
    },
    {
      "metadata": {
        "id": "DmyJIbMDX_-v",
        "colab_type": "code",
        "colab": {},
        "outputId": "56aa8337-4a3f-48b6-cf4c-140b3e90ae42"
      },
      "cell_type": "code",
      "source": [
        "# round predictions\n",
        "rounded = [round(x[0]) for x in predictions]\n",
        "print(rounded)"
      ],
      "execution_count": 0,
      "outputs": [
        {
          "output_type": "stream",
          "text": [
            "[0.0, 0.0, 1.0, 0.0, 1.0, 0.0, 0.0, 1.0, 1.0, 0.0, 0.0, 1.0, 1.0, 1.0, 1.0, 0.0, 0.0, 0.0, 0.0, 0.0, 1.0, 0.0, 1.0, 0.0, 1.0, 1.0, 1.0, 0.0, 0.0, 0.0, 0.0, 1.0, 0.0, 0.0, 0.0, 1.0, 1.0, 0.0, 0.0, 1.0, 0.0, 1.0, 0.0, 1.0, 1.0, 1.0, 1.0, 0.0, 0.0, 0.0, 0.0, 0.0, 0.0, 1.0, 1.0, 0.0, 1.0, 0.0, 1.0, 0.0, 0.0, 1.0, 0.0, 1.0, 1.0, 0.0, 0.0, 0.0, 0.0, 1.0, 0.0, 1.0, 1.0, 0.0, 0.0, 0.0, 0.0, 0.0, 1.0, 0.0, 0.0, 0.0, 0.0, 0.0, 0.0, 0.0, 0.0, 0.0, 1.0, 0.0, 0.0, 0.0, 0.0, 0.0, 0.0, 1.0, 0.0, 0.0, 0.0, 1.0, 1.0, 0.0, 0.0, 0.0, 0.0, 0.0, 0.0, 1.0, 0.0, 0.0, 1.0, 1.0, 0.0, 0.0, 1.0, 1.0, 0.0, 0.0, 0.0, 0.0, 1.0, 0.0, 0.0, 0.0, 0.0, 0.0, 0.0, 0.0, 0.0, 0.0, 1.0, 1.0, 1.0, 0.0, 0.0, 0.0, 0.0, 0.0, 0.0, 0.0, 0.0, 0.0, 0.0, 0.0, 1.0, 0.0, 0.0, 0.0, 0.0, 0.0, 1.0, 0.0, 1.0, 1.0, 1.0, 1.0, 0.0, 0.0, 0.0, 1.0, 0.0, 0.0, 0.0, 0.0, 0.0, 0.0, 1.0, 0.0, 0.0, 0.0, 0.0, 1.0, 0.0, 0.0, 0.0, 1.0, 0.0, 0.0, 1.0, 1.0, 0.0, 0.0, 0.0, 0.0, 0.0, 1.0, 1.0, 0.0, 1.0, 1.0, 0.0, 0.0, 1.0, 1.0, 0.0, 1.0, 0.0, 0.0, 1.0, 1.0, 0.0, 0.0, 0.0, 0.0, 0.0, 0.0, 1.0, 1.0, 0.0, 1.0, 0.0, 0.0, 1.0, 0.0, 1.0, 1.0, 1.0, 1.0, 0.0, 1.0, 1.0, 0.0, 0.0, 1.0, 0.0, 0.0, 0.0, 1.0, 1.0, 0.0, 0.0, 1.0, 0.0, 0.0, 0.0, 1.0, 1.0, 1.0, 1.0, 0.0, 0.0, 0.0, 0.0, 1.0, 1.0, 1.0, 1.0, 1.0, 1.0, 0.0, 0.0, 0.0, 0.0, 0.0, 1.0, 0.0, 0.0, 0.0, 1.0, 1.0, 1.0, 1.0, 0.0, 0.0, 1.0, 0.0, 1.0, 1.0, 0.0, 1.0, 1.0, 0.0, 0.0, 0.0, 0.0, 0.0, 0.0, 0.0, 0.0, 0.0, 0.0, 1.0, 1.0, 1.0, 0.0, 1.0, 1.0, 0.0, 0.0, 0.0, 0.0, 0.0, 1.0, 1.0, 0.0, 1.0, 1.0, 0.0, 1.0, 0.0, 1.0, 1.0, 0.0, 0.0, 0.0, 0.0, 1.0, 0.0, 0.0, 1.0, 0.0, 0.0, 1.0, 0.0, 1.0, 0.0, 0.0, 1.0, 0.0, 1.0, 1.0, 0.0, 0.0, 1.0, 0.0, 1.0, 1.0, 1.0, 0.0, 0.0, 0.0, 0.0, 1.0, 0.0, 0.0, 1.0, 0.0, 0.0, 1.0, 1.0, 0.0, 0.0, 0.0, 0.0, 0.0, 0.0, 0.0, 0.0, 0.0, 1.0, 0.0, 0.0, 0.0, 0.0, 0.0, 1.0, 1.0, 1.0, 0.0, 1.0, 1.0, 0.0, 0.0, 0.0, 1.0, 0.0, 0.0, 0.0, 0.0, 0.0, 1.0, 0.0, 0.0, 0.0, 1.0, 1.0, 0.0, 0.0, 1.0, 0.0, 0.0, 0.0, 0.0, 0.0, 0.0, 0.0, 0.0, 0.0, 1.0, 0.0, 0.0, 1.0, 0.0, 0.0, 1.0, 1.0, 0.0, 0.0, 0.0, 1.0, 0.0, 0.0, 0.0, 0.0, 1.0, 1.0, 0.0, 0.0, 1.0, 1.0, 0.0, 0.0, 0.0, 0.0, 1.0, 1.0, 0.0, 1.0, 0.0, 1.0, 0.0, 0.0, 0.0, 0.0, 1.0, 1.0, 0.0, 1.0, 0.0, 0.0, 0.0, 0.0, 0.0, 0.0, 0.0, 1.0, 1.0, 0.0, 0.0, 0.0, 0.0, 0.0, 0.0, 1.0, 0.0, 1.0, 0.0, 0.0, 0.0, 0.0, 0.0, 0.0, 0.0, 0.0, 0.0, 1.0, 0.0, 0.0, 1.0, 0.0, 0.0, 0.0, 0.0, 0.0, 0.0, 0.0, 0.0, 0.0, 0.0, 1.0, 0.0, 0.0, 0.0, 1.0, 0.0, 0.0, 0.0, 0.0, 0.0, 0.0, 1.0, 0.0, 0.0, 0.0, 1.0, 1.0, 1.0, 1.0, 0.0, 1.0, 0.0, 0.0, 0.0, 0.0, 0.0, 0.0, 0.0, 0.0, 1.0, 1.0, 0.0, 0.0, 1.0, 0.0, 0.0, 0.0, 1.0, 0.0, 0.0, 0.0, 0.0, 0.0, 0.0, 0.0, 0.0, 1.0, 1.0, 1.0, 0.0, 1.0, 0.0, 0.0, 0.0, 1.0, 0.0, 0.0, 0.0, 0.0, 0.0, 0.0, 0.0, 0.0, 0.0, 0.0, 0.0, 1.0, 0.0, 0.0, 0.0, 1.0, 1.0, 0.0, 0.0, 0.0, 0.0, 1.0, 1.0, 0.0, 0.0, 0.0, 0.0, 0.0, 0.0, 0.0, 0.0, 1.0, 0.0, 0.0, 0.0, 0.0, 1.0, 1.0, 0.0, 0.0, 0.0, 0.0, 0.0, 0.0, 1.0, 0.0, 0.0, 0.0, 0.0, 0.0, 1.0, 0.0, 1.0, 0.0, 1.0, 1.0, 0.0, 0.0, 0.0, 0.0, 1.0, 0.0, 1.0, 0.0, 1.0, 0.0, 1.0, 0.0, 0.0, 0.0, 1.0, 1.0, 0.0, 0.0, 1.0, 0.0, 0.0, 0.0, 0.0, 1.0, 1.0, 0.0, 1.0, 0.0, 1.0, 0.0, 0.0, 1.0, 1.0, 0.0, 1.0, 0.0, 0.0, 0.0, 1.0, 1.0, 0.0, 0.0, 1.0, 0.0, 0.0, 0.0, 0.0, 0.0, 1.0, 0.0, 0.0, 0.0, 0.0, 0.0, 0.0, 0.0, 0.0, 0.0, 0.0, 0.0, 0.0, 0.0, 1.0, 0.0, 0.0, 1.0, 1.0, 1.0, 1.0, 0.0, 0.0, 0.0, 0.0, 0.0, 0.0, 1.0, 0.0, 1.0, 0.0, 0.0, 1.0, 1.0, 1.0, 1.0, 0.0, 0.0, 0.0, 0.0, 1.0, 1.0, 1.0, 0.0, 0.0, 0.0, 0.0, 1.0, 1.0, 0.0, 1.0, 0.0, 0.0, 1.0, 0.0, 0.0, 0.0, 0.0, 0.0, 0.0, 1.0, 1.0, 0.0, 1.0, 0.0, 1.0, 0.0, 1.0, 1.0, 0.0, 0.0, 1.0, 0.0, 0.0, 1.0, 0.0, 0.0, 0.0, 0.0, 0.0, 1.0, 0.0, 1.0, 0.0, 1.0, 0.0, 0.0, 1.0, 1.0, 0.0, 0.0, 0.0, 0.0, 0.0, 1.0, 0.0, 0.0, 0.0, 0.0, 0.0, 0.0, 0.0, 0.0, 0.0, 1.0, 0.0, 0.0, 0.0, 0.0, 0.0, 0.0, 0.0, 1.0, 0.0, 0.0, 1.0, 1.0, 0.0, 0.0, 0.0, 1.0, 1.0, 0.0, 0.0, 0.0, 1.0, 1.0, 0.0, 0.0, 1.0, 0.0, 1.0, 0.0, 1.0, 0.0, 0.0, 0.0, 0.0, 0.0, 0.0]\n"
          ],
          "name": "stdout"
        }
      ]
    },
    {
      "metadata": {
        "id": "5olKilWIX_-2",
        "colab_type": "code",
        "colab": {},
        "outputId": "61dcfdf7-8da8-4de7-fff0-69cb458dc00f"
      },
      "cell_type": "code",
      "source": [
        "def sigmoid(x):\n",
        "    return 1/(1+np.exp(-x))\n",
        "x=np.linspace(-5,5,100)\n",
        "plt.plot(x,sigmoid(x),'b')\n",
        "plt.grid()\n",
        "plt.text(-4,.7,r'$\\sigma(x)=\\frac{1}{1+e^{-x}}$',fontsize=16)\n",
        "plt.show()"
      ],
      "execution_count": 0,
      "outputs": [
        {
          "output_type": "display_data",
          "data": {
            "image/png": "[encoded data removed]",
            "text/plain": [
              "<Figure size 432x288 with 1 Axes>"
            ]
          },
          "metadata": {
            "tags": []
          }
        }
      ]
    },
    {
      "metadata": {
        "id": "G64ePngaX_-_",
        "colab_type": "code",
        "colab": {},
        "outputId": "318952f1-51e7-4793-b1f7-90450786d3c8"
      },
      "cell_type": "code",
      "source": [
        "# sifmoid 1,0 #tanh  -1 ,1 \n",
        "t=np.tanh(x)\n",
        "plt.plot(x,t)"
      ],
      "execution_count": 0,
      "outputs": [
        {
          "output_type": "execute_result",
          "data": {
            "text/plain": [
              "[<matplotlib.lines.Line2D at 0x6f188b0>]"
            ]
          },
          "metadata": {
            "tags": []
          },
          "execution_count": 5
        },
        {
          "output_type": "display_data",
          "data": {
            "image/png": "[encoded data removed]",
            "text/plain": [
              "<Figure size 432x288 with 1 Axes>"
            ]
          },
          "metadata": {
            "tags": []
          }
        }
      ]
    },
    {
      "metadata": {
        "id": "kyFamewXX__H",
        "colab_type": "code",
        "colab": {}
      },
      "cell_type": "code",
      "source": [
        "def reluderivatie(x):\n",
        "    x[x<=0]=0\n",
        "    x[x>0]=1\n",
        "    return x"
      ],
      "execution_count": 0,
      "outputs": []
    },
    {
      "metadata": {
        "id": "ZsiIdUf3X__O",
        "colab_type": "code",
        "colab": {},
        "outputId": "577c448d-1842-439e-8886-afc060704d52"
      },
      "cell_type": "code",
      "source": [
        "z=np.random.uniform(-1,1,(3,3))\n",
        "z"
      ],
      "execution_count": 0,
      "outputs": [
        {
          "output_type": "execute_result",
          "data": {
            "text/plain": [
              "array([[-0.64607574, -0.21750933, -0.60168742],\n",
              "       [ 0.15069851, -0.7711048 , -0.1485202 ],\n",
              "       [-0.21002408,  0.37106464,  0.9556783 ]])"
            ]
          },
          "metadata": {
            "tags": []
          },
          "execution_count": 8
        }
      ]
    },
    {
      "metadata": {
        "id": "OpBU9QhuX__Y",
        "colab_type": "code",
        "colab": {},
        "outputId": "b5c4ea3d-f8db-49ed-f9c8-bdbad5dc5414"
      },
      "cell_type": "code",
      "source": [
        "reluderivatie(z)"
      ],
      "execution_count": 0,
      "outputs": [
        {
          "output_type": "execute_result",
          "data": {
            "text/plain": [
              "array([[ 0.,  0.,  0.],\n",
              "       [ 1.,  0.,  0.],\n",
              "       [ 0.,  1.,  1.]])"
            ]
          },
          "metadata": {
            "tags": []
          },
          "execution_count": 9
        }
      ]
    },
    {
      "metadata": {
        "id": "_wQ3EnNwX__n",
        "colab_type": "code",
        "colab": {}
      },
      "cell_type": "code",
      "source": [
        "def relude(x):\n",
        "    return 1*(x>0)\n",
        " \n",
        "''''if (x>0):\n",
        "    return 1\n",
        "if x(x<=0):\n",
        "    return 0'''"
      ],
      "execution_count": 0,
      "outputs": []
    },
    {
      "metadata": {
        "id": "bSMg3CeBX__5",
        "colab_type": "code",
        "colab": {},
        "outputId": "c36fa630-2a23-41bc-ab5d-ccfb48ed6a38"
      },
      "cell_type": "code",
      "source": [
        "relude(z)"
      ],
      "execution_count": 0,
      "outputs": [
        {
          "output_type": "execute_result",
          "data": {
            "text/plain": [
              "array([[0, 0, 0],\n",
              "       [1, 0, 0],\n",
              "       [0, 1, 1]])"
            ]
          },
          "metadata": {
            "tags": []
          },
          "execution_count": 11
        }
      ]
    },
    {
      "metadata": {
        "id": "Itr07smZYAAB",
        "colab_type": "code",
        "colab": {}
      },
      "cell_type": "code",
      "source": [
        ""
      ],
      "execution_count": 0,
      "outputs": []
    }
  ]
}